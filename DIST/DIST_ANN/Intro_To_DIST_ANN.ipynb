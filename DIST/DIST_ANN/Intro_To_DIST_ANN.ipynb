{
 "cells": [
  {
   "cell_type": "markdown",
   "id": "820307af",
   "metadata": {},
   "source": [
    "# Demonstrating Visualization of OPERA DIST-ANN Product Layers\n",
    "---\n",
    "This notebook provides an overview of the basic functionality and utility of the OPERA **DIST-ANN** product, an near-global annual pixel-wise summary of vegetation change. Here, several of the available **DIST-ANN** rasters are visualized for a wildfire-affected area in northern California.\n",
    "\n",
    "**<font color='red'>Note: This notebook uses provisional products, which may differ slightly from operational products. Please refer to [DIST product specification](https://d2pn8kiwq2w21t.cloudfront.net/documents/ProductSpec_DIST_HLS.pdf) for more information. </font>**"
   ]
  },
  {
   "cell_type": "code",
   "execution_count": null,
   "id": "c51f95dd",
   "metadata": {},
   "outputs": [],
   "source": [
    "### Library Imports\n",
    "import hvplot.xarray\n",
    "import geoviews as gv\n",
    "import holoviews as hv\n",
    "\n",
    "from bokeh.models import FixedTicker\n",
    "hv.extension('bokeh')\n",
    "\n",
    "import warnings\n",
    "warnings.filterwarnings('ignore')\n",
    "\n",
    "import sys\n",
    "sys.path.append('../../')\n",
    "from src.dist_utils import *"
   ]
  },
  {
   "cell_type": "markdown",
   "id": "a6b1bbbb",
   "metadata": {},
   "source": [
    "### DIST Product Suite Background\n",
    "---\n",
    "The land Disturbance product suite (**DIST**) maps vegetation disturbance from Harmonized Landsat-8 and Sentinel-2 A/B (HLS) scenes. Disturbance is detected when vegetation cover decreases or spectral variation is outside a historical norm within an HLS pixel. Two DIST products compose the DIST product suite: 1) the **DIST-ALERT** product, capturing vegetation disturbance at the cadence of HLS sampling (2-3 days); and 2) the **DIST-ANN** product, summarizing the confirmed changes of the DIST-ALERT products from previous calendar year. \n",
    "\n",
    "This notebook provides a step-by-step workflow visualizing **DIST-ANN** raster layers for the 2022 calendar year. An analogous notebook for the **DIST-ALERT** product may be accessed [here](https://github.com/OPERA-Cal-Val/OPERA_Applications/blob/main/DIST/Wildfire/Intro_To_DIST.ipynb)."
   ]
  },
  {
   "cell_type": "markdown",
   "id": "aacc19d2",
   "metadata": {},
   "source": [
    "### Metadata\n",
    "---\n",
    "\n",
    "HLS products provide surface reflectance (SR) data from the Operational Land Imager (OLI) aboard the Landsat-8 remote sensing satellite and the Multi-Spectral Instrument (MSI) aboard the Sentinel-2 A/B remote sensing satellite. HLS products are distributed over projected map coordinates aligned with the Military Grid Reference System (MGRS). Each tile covers 109.8 kilometers squared divided into 3660 rows and 3660 columns at 30 meter pixel spacing. Each tile overlaps neighbors by 4900 meters in each direction."
   ]
  },
  {
   "cell_type": "markdown",
   "id": "0471a902",
   "metadata": {},
   "source": [
    "### Raster Layers\n",
    "___\n",
    "\n",
    "The **DIST-ANN** product is distributed as a set of 16 Cloud-Optimized GeoTIFF (COG) files to enable download of only particular layers of interest to a given user. All L3 DIST layers are stored in files following GeoTIFF format specifications. Details specific to the available raster layers and their properties are available in the [OPERA DIST Product Specifications Document](https://d2pn8kiwq2w21t.cloudfront.net/documents/ProductSpec_DIST_HLS.pdf)."
   ]
  },
  {
   "cell_type": "code",
   "execution_count": null,
   "id": "120f6bd4",
   "metadata": {},
   "outputs": [],
   "source": [
    "# Specify filepath location of OPERA DIST_ANN tile and desired bands (Note: bandlist is not comprehensive of all available layers)\n",
    "data_dir = 'https://glad.umd.edu/projects/opera/SEP/DIST-ANN/10/T/E/M/2022/OPERA_L3_DIST-ANN-HLS_T10TEM_2022_2023136T210508Z_30_v0_'\n",
    "bandlist = ['VEG-DIST-STATUS', 'VEG-HIST', 'VEG-IND-MAX','VEG-ANOM-MAX', 'VEG-DIST-CONF', 'VEG-DIST-DATE', \n",
    "            'VEG-DIST-COUNT', 'VEG-DIST-DUR', 'VEG-LAST-DATE', 'GEN-DIST-STATUS', 'GEN-ANOM-MAX', 'GEN-DIST-CONF',\n",
    "            'GEN-DIST-DATE', 'GEN-DIST-COUNT', 'GEN-DIST-DUR', 'GEN-LAST-DATE']\n",
    "bandpath = f\"{data_dir}%s.tif\""
   ]
  },
  {
   "cell_type": "code",
   "execution_count": null,
   "id": "d448f9ea",
   "metadata": {},
   "outputs": [],
   "source": [
    "# Create geocube of stacked bands\n",
    "da, crs = stack_bands(bandpath, bandlist)\n",
    "\n",
    "# Create basemap\n",
    "base = gv.tile_sources.EsriTerrain.opts(width=1000, height=1000, padding=0.1)"
   ]
  },
  {
   "cell_type": "markdown",
   "id": "5a4a8bd0",
   "metadata": {},
   "source": [
    "## **Band 1: Vegetation Disturbance Status (VEG-DIST-STATUS)**\n",
    "***\n",
    "\n",
    "**Data Type:** UInt8<br>\n",
    "**Description:** Status of confirmed disturbance, current provisional disturbance, and no disturbance.<br>"
   ]
  },
  {
   "cell_type": "code",
   "execution_count": null,
   "id": "a6893cd4",
   "metadata": {},
   "outputs": [],
   "source": [
    "base = gv.tile_sources.EsriNatGeo.opts(width=1000, height=1000, padding=0.1)\n",
    "veg_dist_status = da.z.where(da['z']!=255).sel({'band':1})\n",
    "\n",
    "color_key = {\n",
    "    \"Confirmed, <50% ongoing\": \"#fcbea5\",\n",
    "    \"Confirmed, ≥50% ongoing\": \"#fb7050\",\n",
    "    \"Confirmed, <50% completed\": \"#ea372a\",\n",
    "    \"Confirmed, ≥50% completed\": \"#67000d\",\n",
    "}\n",
    "levels = 4\n",
    "ticks = [2.5, 3.5, 4.5, 5.5]\n",
    "ticker = FixedTicker(ticks=ticks)\n",
    "labels = dict(zip(ticks, color_key))\n",
    "\n",
    "veg_dist_status.where(veg_dist_status!=0).hvplot.image(x='longitude', \n",
    "                             y='latitude', \n",
    "                             crs=crs, \n",
    "                             rasterize=True,\n",
    "                             dynamic=True, \n",
    "                             aspect='equal', \n",
    "                             frame_width=500, \n",
    "                             frame_height=500,\n",
    "                             clim=(2,6), alpha=0.8).opts(title=f\"VEG_DIST_STATUS\", xlabel='Longitude', ylabel='Latitude',\n",
    "                                             color_levels = levels, cmap=tuple(color_key.values()),\n",
    "                                             colorbar_opts={'ticker': ticker, 'major_label_overrides':labels}) * base"
   ]
  },
  {
   "cell_type": "markdown",
   "id": "8646a192",
   "metadata": {},
   "source": [
    "**Layer Values:**<br> \n",
    "* **0:** No disturbance<br>\n",
    "* **2:** Confirmed disturbance with vegetation cover change <50% (ongoing) <br>\n",
    "* **4:** Confirmed disturbance with vegetation cover change ≥50% (ongoing) <br>\n",
    "* **5:** Confirmed disturbance with vegetation cover change <50% (completed) <br>\n",
    "* **6:** Confirmed disturbance with vegetation cover change ≥50% (completed)  <br>\n",
    "* **255:** NoData <br> "
   ]
  },
  {
   "cell_type": "markdown",
   "id": "5f9f8976",
   "metadata": {},
   "source": [
    "## **Band 4: Maximum Vegetation Anomaly Value (VEG_ANOM_MAX)**\n",
    "***\n",
    "\n",
    "**Data Type:** UInt8<br>\n",
    "**Description:** Difference between historical vegetation cover and vegetation cover at the date of maximum decrease (vegetation loss of 0- 100%). This layer can be used to threshold vegetation disturbance per a given sensitivity (e.g. disturbance of ≥20% vegetation cover loss).<br>"
   ]
  },
  {
   "cell_type": "code",
   "execution_count": null,
   "id": "c14d8d59",
   "metadata": {},
   "outputs": [],
   "source": [
    "base = gv.tile_sources.EsriNatGeo.opts(width=1000, height=1000, padding=0.1)\n",
    "veg_anom_max = da.z.where(da['z']!=255).sel({'band':4})\n",
    "veg_anom_max.where(veg_anom_max!=0).hvplot.image(x='longitude', \n",
    "                          y='latitude', \n",
    "                          crs=crs, \n",
    "                          rasterize=True, \n",
    "                          dynamic=True, \n",
    "                          aspect='equal', \n",
    "                          frame_width=500, \n",
    "                          frame_height=500, \n",
    "                          cmap='hot', \n",
    "                          clabel='Vegetation Loss (%)',\n",
    "                          clim=(0,100), alpha=0.8).opts(title=f\"VEG_ANOM_MAX\", xlabel='Longitude', ylabel='Latitude').redim.nodata(value=255) * base"
   ]
  },
  {
   "cell_type": "markdown",
   "id": "3a7cf11a",
   "metadata": {},
   "source": [
    "**Layer Values:**<br> \n",
    "* **0-100:** Maximum loss of percent vegetation<br>\n",
    "* **255:** NoData <br>\n"
   ]
  },
  {
   "cell_type": "markdown",
   "id": "1af3a06f",
   "metadata": {},
   "source": [
    "## **Band 5: Vegetation Disturbance Confidence (VEG_DIST_CONF)**\n",
    "***\n",
    "\n",
    "**Data Type:** UInt16<br>\n",
    "**Description:** Mean anomaly value since initial anomaly detection times the number of loss anomalies squared, until the anniversary date is reached, or a fixed number of consecutive non- anomalies are observed.<br>"
   ]
  },
  {
   "cell_type": "code",
   "execution_count": null,
   "id": "14661eac",
   "metadata": {},
   "outputs": [],
   "source": [
    "base = gv.tile_sources.EsriNatGeo.opts(width=1000, height=1000, padding=0.1)\n",
    "veg_dist_confidence = da.z.where(da['z']!=255).sel({'band':5})\n",
    "veg_dist_confidence.where(veg_dist_confidence!=0).hvplot.image(x='longitude', \n",
    "                             y='latitude', \n",
    "                             crs=crs, \n",
    "                             rasterize=True, \n",
    "                             dynamic=True, \n",
    "                             aspect='equal', \n",
    "                             frame_width=500, \n",
    "                             frame_height=500, \n",
    "                             cmap='blues',\n",
    "                             clabel='Confidence Units', \n",
    "                             alpha=0.8).opts(title=f\"VEG_DIST_CONFIDENCE\", clim=(34,32000), colorbar_opts={'ticker': FixedTicker(ticks=[0, 10000, 20000, 30000])}, xlabel='Longitude', ylabel='Latitude') * base"
   ]
  },
  {
   "cell_type": "markdown",
   "id": "15e02c4d",
   "metadata": {},
   "source": [
    "**Layer Values:**<br> \n",
    "* **-1:** NoData <br>\n",
    "* **0:** No disturbance <br>\n",
    "* **>0:** Disturbance confidence <br>"
   ]
  },
  {
   "cell_type": "markdown",
   "id": "6995abbe",
   "metadata": {},
   "source": [
    "## **Band 6: Date of Initial Vegetation Disturbance (VEG_DIST_DATE)**\n",
    "***\n",
    "\n",
    "**Data Type:** Int16<br>\n",
    "**Description:** Day of first loss anomaly detection in the last year, denoted as the number of days since December 31st, 2020.<br>"
   ]
  },
  {
   "cell_type": "code",
   "execution_count": null,
   "id": "fd519d3f",
   "metadata": {},
   "outputs": [],
   "source": [
    "veg_dist_date = da.z.where(da['z']!=-1).sel({'band':6})\n",
    "veg_dist_date.where(veg_dist_date!=0).hvplot.image(x='longitude', \n",
    "                           y='latitude', \n",
    "                           crs=crs, \n",
    "                           rasterize=True, \n",
    "                           dynamic=True, \n",
    "                           aspect='equal', \n",
    "                           frame_width=500, \n",
    "                           frame_height=500, \n",
    "                           cmap='inferno',\n",
    "                           clabel='Days since 1/1/22', \n",
    "                           alpha=0.8).opts(title=f\"VEG_DIST_DATE\", xlabel='Longitude', ylabel='Latitude',clim=(0, 592)) * base"
   ]
  },
  {
   "cell_type": "markdown",
   "id": "7392d7dc",
   "metadata": {},
   "source": [
    "**Layer Values:**<br> \n",
    "* **-1:** NoData <br>\n",
    "* **0:** No disturbance <br>\n",
    "* **>0:** Day of first loss anomaly detection <br>"
   ]
  },
  {
   "cell_type": "markdown",
   "id": "7961619c",
   "metadata": {},
   "source": [
    "## **Band 7: Number of Vegetation Anomalies (VEG-DIST-COUNT)**\n",
    "***\n",
    "\n",
    "**Data Type:** UInt8<br>\n",
    "**Description:** Total number of observations with anomalous low vegetation since initial anomaly detection (inclusive). Maximum of 254.<br>"
   ]
  },
  {
   "cell_type": "code",
   "execution_count": null,
   "id": "c2b1f922",
   "metadata": {},
   "outputs": [],
   "source": [
    "base = gv.tile_sources.EsriNatGeo.opts(width=1000, height=1000, padding=0.1)\n",
    "veg_dist_count = da.z.where(da['z']!=255).sel({'band':7})\n",
    "veg_dist_count.where(veg_dist_count!=0).hvplot.image(x='longitude', \n",
    "                             y='latitude', \n",
    "                             crs=crs, \n",
    "                             rasterize=True, \n",
    "                             dynamic=True, \n",
    "                             aspect='equal', \n",
    "                             frame_width=500, \n",
    "                             frame_height=500, \n",
    "                             cmap='cividis',\n",
    "                             clabel='Number of Anomolaies Observed',\n",
    "                             alpha=0.8).opts(title=f\"VEG_DIST_COUNT\", clim=(0,254), colorbar_opts={'ticker': FixedTicker(ticks=[0, 50, 100, 150, 200, 250])}, xlabel='Longitude', ylabel='Latitude') * base"
   ]
  },
  {
   "cell_type": "markdown",
   "id": "dd432582",
   "metadata": {},
   "source": [
    "**Layer Values:**<br> \n",
    "* **0:** No disturbance anomalies <br>\n",
    "* **1-254:** Count of disturbance anomalies <br>\n",
    "* **255:** NoData <br>"
   ]
  },
  {
   "cell_type": "markdown",
   "id": "13ce8510",
   "metadata": {},
   "source": [
    "## **Band 8: Vegetation Disturbance Duration (VEG-DIST-DUR)**\n",
    "***\n",
    "\n",
    "**Data Type:** UInt16<br>\n",
    "**Description:** Number of days of ongoing loss anomalies since initial anomaly detection (inclusive). Maximum duration is one year.<br>"
   ]
  },
  {
   "cell_type": "code",
   "execution_count": null,
   "id": "b9617891",
   "metadata": {},
   "outputs": [],
   "source": [
    "base = gv.tile_sources.EsriNatGeo.opts(width=1000, height=1000, padding=0.1)\n",
    "veg_dist_dur = da.z.where(da['z']!=-1).sel({'band':8})\n",
    "veg_dist_dur.where(veg_dist_dur!=0).hvplot.image(x='longitude', \n",
    "                             y='latitude', \n",
    "                             crs=crs, \n",
    "                             rasterize=True, \n",
    "                             dynamic=True, \n",
    "                             aspect='equal', \n",
    "                             frame_width=500, \n",
    "                             frame_height=500, \n",
    "                             cmap='magma_r',\n",
    "                             clabel='Days',\n",
    "                             alpha=0.8).opts(title=f\"VEG_DIST_DUR\", clim=(0,365), colorbar_opts={'ticker': FixedTicker(ticks=[0, 50, 100, 150, 200, 250, 300, 350])}, xlabel='Longitude', ylabel='Latitude') * base"
   ]
  },
  {
   "cell_type": "markdown",
   "id": "34cdaebc",
   "metadata": {},
   "source": [
    "**Layer Values:**<br> \n",
    "* **-1:** NoData <br>\n",
    "* **0-366:** Number of days from first disturbance anomaly to the most recent disturbance anomaly detection <br>"
   ]
  },
  {
   "cell_type": "markdown",
   "id": "5b7ab636",
   "metadata": {},
   "source": [
    "## Conclusion\n",
    "This notebook provides a basic workflows for loading and visualizing raster layers of the OPERA **DIST-ANN** product, a near-global, pixel-wise summary of vegetation loss for the 2022 calendar year. "
   ]
  }
 ],
 "metadata": {
  "kernelspec": {
   "display_name": "Python 3 (ipykernel)",
   "language": "python",
   "name": "python3"
  },
  "language_info": {
   "codemirror_mode": {
    "name": "ipython",
    "version": 3
   },
   "file_extension": ".py",
   "mimetype": "text/x-python",
   "name": "python",
   "nbconvert_exporter": "python",
   "pygments_lexer": "ipython3",
   "version": "3.10.13"
  }
 },
 "nbformat": 4,
 "nbformat_minor": 5
}
