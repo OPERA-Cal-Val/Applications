{
 "cells": [
  {
   "cell_type": "code",
   "execution_count": null,
   "id": "ff970a96-6d61-4dcc-b98d-14247d17e1b0",
   "metadata": {},
   "outputs": [],
   "source": [
    "import xarray as xr\n",
    "import requests\n",
    "import boto3\n",
    "import s3fs\n",
    "import rasterio as rio\n",
    "import rioxarray\n",
    "from rasterio.session import AWSSession\n",
    "import os\n",
    "from netrc import netrc\n",
    "from subprocess import Popen\n",
    "from platform import system\n",
    "from getpass import getpass"
   ]
  },
  {
   "cell_type": "code",
   "execution_count": null,
   "id": "3d1a47ad-84c1-4705-bf62-0ffe841be82d",
   "metadata": {},
   "outputs": [],
   "source": [
    "# Generates authentication token\n",
    "# Asks for your Earthdata username and password for first time, if netrc does not exists.\n",
    "\n",
    "urs = 'urs.earthdata.nasa.gov'    # Earthdata URL endpoint for authentication\n",
    "prompts = ['Enter NASA Earthdata Login Username: ',\n",
    "           'Enter NASA Earthdata Login Password: ']\n",
    "\n",
    "# Determine the OS (Windows machines usually use an '_netrc' file)\n",
    "netrc_name = \"_netrc\" if system()==\"Windows\" else \".netrc\"\n",
    "\n",
    "# Determine if netrc file exists, and if so, if it includes NASA Earthdata Login Credentials\n",
    "try:\n",
    "    netrcDir = os.path.expanduser(f\"~/{netrc_name}\")\n",
    "    netrc(netrcDir).authenticators(urs)[0]\n",
    "\n",
    "# Below, create a netrc file and prompt user for NASA Earthdata Login Username and Password\n",
    "except FileNotFoundError:\n",
    "    homeDir = os.path.expanduser(\"~\")\n",
    "    Popen('touch {0}{2} | echo machine {1} >> {0}{2}'.format(homeDir + os.sep, urs, netrc_name), shell=True)\n",
    "    Popen('echo login {} >> {}{}'.format(getpass(prompt=prompts[0]), homeDir + os.sep, netrc_name), shell=True)\n",
    "    Popen('echo \\'password {} \\'>> {}{}'.format(getpass(prompt=prompts[1]), homeDir + os.sep, netrc_name), shell=True)\n",
    "    # Set restrictive permissions\n",
    "    Popen('chmod 0600 {0}{1}'.format(homeDir + os.sep, netrc_name), shell=True)\n",
    "\n",
    "    # Determine OS and edit netrc file if it exists but is not set up for NASA Earthdata Login\n",
    "except TypeError:\n",
    "    homeDir = os.path.expanduser(\"~\")\n",
    "    Popen('echo machine {1} >> {0}{2}'.format(homeDir + os.sep, urs, netrc_name), shell=True)\n",
    "    Popen('echo login {} >> {}{}'.format(getpass(prompt=prompts[0]), homeDir + os.sep, netrc_name), shell=True)\n",
    "    Popen('echo \\'password {} \\'>> {}{}'.format(getpass(prompt=prompts[1]), homeDir + os.sep, netrc_name), shell=True)\n",
    "\n"
   ]
  },
  {
   "cell_type": "code",
   "execution_count": null,
   "id": "5382c784-952b-4d89-a0a8-f93f9a90d13e",
   "metadata": {},
   "outputs": [],
   "source": [
    "# Generates the temporary\n",
    "s3_cred_endpoint='https://archive.podaac.earthdata.nasa.gov/s3credentials'\n",
    " \n",
    "def get_temp_creds():\n",
    "    temp_creds_url=s3_cred_endpoint\n",
    "    return requests.get(temp_creds_url).json()\n",
    " \n",
    "temp_creds_req=get_temp_creds()\n",
    " \n",
    "fs_s3 = s3fs.S3FileSystem(anon=False,\n",
    "                          key=temp_creds_req['accessKeyId'],\n",
    "                          secret=temp_creds_req['secretAccessKey'],\n",
    "                          token=temp_creds_req['sessionToken'],\n",
    "                          client_kwargs={'region_name':'us-west-2'})\n",
    " \n",
    "with fs_s3.open('s3://podaac-ops-cumulus-protected/OPERA_L3_DSWX-HLS_PROVISIONAL_V0/OPERA_L3_DSWx-HLS_T42RUQ_20220930T055641Z_20230112T024042Z_S2A_30_v0.0_B01_WTR.tif', mode='rb') as s3obj:\n",
    "    \n",
    "    # open with rasterio directly\n",
    "    with rio.open(s3obj) as ds:\n",
    "       print(ds.crs)\n",
    "   \n",
    "    # open with xarray\n",
    "    B01_T42RUQ_S3=xr.open_dataset(s3obj, engine='rasterio')"
   ]
  },
  {
   "cell_type": "code",
   "execution_count": null,
   "id": "5b78512d-8a8c-4386-b803-eb6c60138f39",
   "metadata": {},
   "outputs": [],
   "source": [
    "B01_T42RUQ_S3"
   ]
  }
 ],
 "metadata": {
  "kernelspec": {
   "display_name": "opera [conda env:opera]",
   "language": "python",
   "name": "conda-env-opera-opera"
  },
  "language_info": {
   "codemirror_mode": {
    "name": "ipython",
    "version": 3
   },
   "file_extension": ".py",
   "mimetype": "text/x-python",
   "name": "python",
   "nbconvert_exporter": "python",
   "pygments_lexer": "ipython3",
   "version": "3.10.13"
  }
 },
 "nbformat": 4,
 "nbformat_minor": 5
}
