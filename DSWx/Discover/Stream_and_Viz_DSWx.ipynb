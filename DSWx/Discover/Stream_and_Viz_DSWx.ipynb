{
 "cells": [
  {
   "cell_type": "code",
   "execution_count": null,
   "metadata": {},
   "outputs": [],
   "source": [
    "import geopandas\n",
    "import geoviews as gv\n",
    "import xarray as xr\n",
    "import pyproj\n",
    "from pyproj import Proj\n",
    "import requests\n",
    "\n",
    "import boto3\n",
    "import rasterio as rio\n",
    "from rasterio.session import AWSSession\n",
    "import os\n",
    "\n",
    "import hvplot.xarray\n",
    "import holoviews as hv\n",
    "from bokeh.models import FixedTicker\n",
    "hv.extension('bokeh')\n",
    "gv.extension('bokeh', 'matplotlib')\n",
    "\n",
    "from matplotlib.colors import ListedColormap\n",
    "import numpy as np\n",
    "\n",
    "import warnings\n",
    "warnings.filterwarnings('ignore')"
   ]
  },
  {
   "cell_type": "code",
   "execution_count": null,
   "metadata": {},
   "outputs": [],
   "source": [
    "# User-specified input\n",
    "data_dir ='https://archive.podaac.earthdata.nasa.gov/podaac-ops-cumulus-protected/OPERA_L3_DSWX-HLS_PROVISIONAL_V0/OPERA_L3_DSWx_HLS_T42RUQ_20220930T055641Z_20221028T020516Z_S2A_30_v0.0_'\n",
    "bandlist = ['B01_WTR', 'B02_BWTR', 'B03_CONF']\n",
    "bandpath = f\"{data_dir}%s.tiff\"\n"
   ]
  },
  {
   "cell_type": "code",
   "execution_count": null,
   "metadata": {},
   "outputs": [],
   "source": [
    "s3_cred_endpoint = 'https://archive.podaac.earthdata.nasa.gov/s3credentials'\n",
    "def get_temp_creds():\n",
    "    temp_creds_url = s3_cred_endpoint\n",
    "    return requests.get(temp_creds_url).json()\n",
    "temp_creds_req = get_temp_creds()\n",
    "\n",
    "session = boto3.Session(aws_access_key_id=temp_creds_req['accessKeyId'], \n",
    "                        aws_secret_access_key=temp_creds_req['secretAccessKey'],\n",
    "                        aws_session_token=temp_creds_req['sessionToken'],\n",
    "                        region_name='us-west-2')\n",
    "\n",
    "rio_env = rio.Env(AWSSession(session),\n",
    "                  GDAL_DISABLE_READDIR_ON_OPEN='EMPTY_DIR',\n",
    "                  GDAL_HTTP_COOKIEFILE=os.path.expanduser('~/cookies.txt'),\n",
    "                  GDAL_HTTP_COOKIEJAR=os.path.expanduser('~/cookies.txt'))\n",
    "rio_env.__enter__()"
   ]
  },
  {
   "cell_type": "code",
   "execution_count": null,
   "metadata": {},
   "outputs": [],
   "source": [
    "# Function to read each layers and stack them to create a geocube\n",
    "def stack_bands(bandpath:str, bandlist:list): \n",
    "    '''\n",
    "    Returns geocube with three bands stacked into one multi-dimensional array.\n",
    "            Parameters:\n",
    "                    bandpath (str): Path to bands that should be stacked\n",
    "                    bandlist (list): Three bands that should be stacked\n",
    "            Returns:\n",
    "                    bandStack (xarray Dataset): Geocube with stacked bands\n",
    "                    crs (int): Coordinate Reference System corresponding to bands\n",
    "    '''\n",
    "    bandStack = []; bandS = []; bandStack_ = [];\n",
    "    for i,band in enumerate(bandlist):\n",
    "        if i==0:\n",
    "            bandStack_ = xr.open_rasterio(bandpath%band)\n",
    "            crs = pyproj.CRS.to_epsg(pyproj.CRS.from_proj4(bandStack_.crs))\n",
    "            bandStack_ = bandStack_ * bandStack_.scales[0]\n",
    "            bandStack = bandStack_.squeeze(drop=True)\n",
    "            bandStack = bandStack.to_dataset(name='z')\n",
    "            bandStack.coords['band'] = i+1\n",
    "            bandStack = bandStack.rename({'x':'longitude', 'y':'latitude', 'band':'band'})\n",
    "            bandStack = bandStack.expand_dims(dim='band')  \n",
    "        else:\n",
    "            bandS = xr.open_rasterio(bandpath%band)\n",
    "            bandS = bandS * bandS.scales[0]\n",
    "            bandS = bandS.squeeze(drop=True)\n",
    "            bandS = bandS.to_dataset(name='z')\n",
    "            bandS.coords['band'] = i+1\n",
    "            bandS = bandS.rename({'x':'longitude', 'y':'latitude', 'band':'band'})\n",
    "            bandS = bandS.expand_dims(dim='band')\n",
    "            bandStack = xr.concat([bandStack, bandS], dim='band')\n",
    "    return bandStack, crs\n",
    "\n"
   ]
  },
  {
   "cell_type": "code",
   "execution_count": null,
   "metadata": {},
   "outputs": [],
   "source": [
    "# Creates geocube of stacked bands\n",
    "da, crs = stack_bands(bandpath, bandlist)\n",
    "\n",
    "# Creates basemap using geoviews\n",
    "base = gv.tile_sources.EsriImagery.opts(width=1000, height=1000, padding=0.1)"
   ]
  },
  {
   "cell_type": "code",
   "execution_count": null,
   "metadata": {},
   "outputs": [],
   "source": [
    "# Mask nodata values (255)\n",
    "da_masked = da.where(da['z'] != 255.) \n",
    "B01_WTR = da_masked.z.sel({'band':1})\n",
    "B02_BWTR = da_masked.z.sel({'band':2}) \n",
    "B03_CONF = da_masked.z.sel({'band':3}) "
   ]
  },
  {
   "cell_type": "code",
   "execution_count": null,
   "metadata": {},
   "outputs": [],
   "source": [
    "# Vizualize B01 - WATER CLASSIFICATION LAYER\n",
    "# Parameters for Colorbar\n",
    "levels = [0, 0.9, 1.9, 2.9, 7.9, 8.9, 10]\n",
    "color_key = {\n",
    "    \"Not Water\": \"#ffffff\",\n",
    "    \"Open Water\": \"#0000ff\",\n",
    "    \"Partial Surface Water\": \"#00ff00\",\n",
    "    \"Reserved\": \"#000000\",\n",
    "    \"Snow/Ice\": \"#00ffff\",\n",
    "    \"Clouds/Cloud Shadow\": \"#7f7f7f\"\n",
    "}\n",
    "\n",
    "ticks = [0.5, 1.5, 2.5, 5.5, 8.5, 9.5]\n",
    "ticker = FixedTicker(ticks=ticks)\n",
    "labels = dict(zip(ticks, color_key))\n",
    "\n",
    "fig = B01_WTR.hvplot.image(x='longitude', \n",
    "                          y='latitude', \n",
    "                          crs=crs, \n",
    "                          rasterize=False, \n",
    "                          dynamic=False, \n",
    "                          aspect='equal', \n",
    "                          frame_width=500,\n",
    "                          clim=(0,255),\n",
    "                          frame_height=500, \n",
    "                          alpha=0.8).opts(title=f\"B01 WTR\", xlabel='Longitude', ylabel='Latitude', color_levels= levels, cmap=tuple(color_key.values()), \n",
    "                                        colorbar_opts={'ticker': ticker, 'major_label_overrides': labels}, clim=(0,10)) * base\n",
    "hvplot.save(fig, 'B01_WTR.png')\n",
    "fig"
   ]
  },
  {
   "cell_type": "code",
   "execution_count": null,
   "metadata": {},
   "outputs": [],
   "source": [
    "# Vizualize B02 - BINARY WATER LAYER\n",
    "# Parameters for Colorbar\n",
    "levels = [0, 0.9, 1.9, 7.9, 8.9, 10]\n",
    "color_key = {\n",
    "    \"Not Water\": \"#ffffff\",\n",
    "    \"Open Water\": \"#0000ff\",\n",
    "    \"Reserved\": \"#000000\",\n",
    "    \"Snow/Ice\": \"#00ffff\",\n",
    "    \"Clouds/Cloud Shadow\": \"#7f7f7f\"\n",
    "}\n",
    "\n",
    "ticks = [0.5, 1.5, 5.5, 8.5, 9.5]\n",
    "ticker = FixedTicker(ticks=ticks)\n",
    "labels = dict(zip(ticks, color_key))\n",
    "\n",
    "fig = B02_BWTR.hvplot.image(x='longitude', \n",
    "                          y='latitude', \n",
    "                          crs=crs, \n",
    "                          rasterize=False, \n",
    "                          dynamic=False, \n",
    "                          aspect='equal', \n",
    "                          frame_width=500,\n",
    "                          clim=(0,255),\n",
    "                          frame_height=500, \n",
    "                          alpha=0.8).opts(title=f\"B02 BWTR\", xlabel='Longitude', ylabel='Latitude', color_levels= levels, cmap=tuple(color_key.values()), \n",
    "                                        colorbar_opts={'ticker': ticker, 'major_label_overrides': labels}, clim=(0,10)) * base\n",
    "hvplot.save(fig, 'B02_BWTR.png')\n",
    "fig"
   ]
  },
  {
   "cell_type": "code",
   "execution_count": null,
   "metadata": {},
   "outputs": [],
   "source": [
    "# Vizualize B03 - CONFIDENCE LAYER\n",
    "# Parameters for Colorbar\n",
    "with rio.open(f\"{data_dir}B03_CONF.tiff\") as ds:\n",
    "    colormap = ds.colormap(1)\n",
    "\n",
    "color_key = ListedColormap([np.array(colormap[key]) / 255 for key in range(256)])\n",
    "ticks = [0, 50, 100, 175, 245, 255]\n",
    "ticker = FixedTicker(ticks=ticks)\n",
    "labels = dict(zip(ticks, [\"0\", \"Confidence\", \"100\", \"Reserved\", \"Snow/Ice\", \"Clouds/Cloud Shadow\"]))\n",
    "\n",
    "fig = B03_CONF.hvplot.image(x='longitude', \n",
    "                          y='latitude', \n",
    "                          crs=crs, \n",
    "                          rasterize=False, \n",
    "                          dynamic=False, \n",
    "                          aspect='equal', \n",
    "                          frame_width=500,\n",
    "                          clim=(0,255),\n",
    "                          frame_height=500, \n",
    "                          alpha=0.8).opts(title=f\"B03 CONF\", xlabel='Longitude', ylabel='Latitude', cmap=color_key,\n",
    "                                    colorbar_opts={'ticker': ticker, 'major_label_overrides': labels}) * base\n",
    "hvplot.save(fig, 'B03_CONF.png')\n",
    "fig"
   ]
  },
  {
   "cell_type": "code",
   "execution_count": null,
   "metadata": {},
   "outputs": [],
   "source": [
    "rio_env.__exit__()"
   ]
  }
 ],
 "metadata": {
  "kernelspec": {
   "display_name": "opera_app",
   "language": "python",
   "name": "python3"
  },
  "language_info": {
   "codemirror_mode": {
    "name": "ipython",
    "version": 3
   },
   "file_extension": ".py",
   "mimetype": "text/x-python",
   "name": "python",
   "nbconvert_exporter": "python",
   "pygments_lexer": "ipython3",
   "version": "3.7.12"
  },
  "orig_nbformat": 4,
  "vscode": {
   "interpreter": {
    "hash": "7ac83203ce9ab6b3d7fc0591598c255c96528b012280e4292535d8d9c4d1218c"
   }
  }
 },
 "nbformat": 4,
 "nbformat_minor": 2
}
