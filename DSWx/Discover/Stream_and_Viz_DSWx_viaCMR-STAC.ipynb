{
 "cells": [
  {
   "cell_type": "code",
   "execution_count": null,
   "metadata": {},
   "outputs": [],
   "source": [
    "import os\n",
    "from netrc import netrc\n",
    "from subprocess import Popen\n",
    "from platform import system\n",
    "from getpass import getpass\n",
    "\n",
    "from pystac_client import Client  \n",
    "from pystac_client import ItemSearch\n",
    "from pystac.item import Item\n",
    "from typing import Dict, Any\n",
    "import json\n",
    "\n",
    "import matplotlib.pyplot as plt\n",
    "from matplotlib.colors import ListedColormap\n",
    "from datetime import datetime\n",
    "from tqdm import tqdm\n",
    "\n",
    "from shapely.geometry import box\n",
    "from shapely.geometry import shape\n",
    "from shapely.ops import transform\n",
    "\n",
    "import numpy as np\n",
    "import pandas as pd\n",
    "import geopandas as gpd\n",
    "from skimage import io\n",
    "\n",
    "from osgeo import gdal\n",
    "import rasterio as rio\n",
    "\n",
    "import pyproj\n",
    "from pyproj import Proj\n",
    "\n",
    "import xarray as xr\n",
    "import panel as pn\n",
    "import geoviews as gv\n",
    "import hvplot.xarray\n",
    "import holoviews as hv\n",
    "\n",
    "from bokeh.models import FixedTicker\n",
    "hv.extension('bokeh')\n",
    "gv.extension('bokeh', 'matplotlib')\n",
    "\n",
    "import warnings\n",
    "warnings.filterwarnings('ignore')"
   ]
  },
  {
   "cell_type": "code",
   "execution_count": null,
   "metadata": {},
   "outputs": [],
   "source": [
    "inDir = os.getcwd()\n",
    "os.chdir(inDir)"
   ]
  },
  {
   "cell_type": "code",
   "execution_count": null,
   "metadata": {},
   "outputs": [],
   "source": [
    "# Generates authentication token\n",
    "# Asks for your Earthdata username and password for first time, if netrc does not exists.\n",
    "\n",
    "urs = 'urs.earthdata.nasa.gov'    # Earthdata URL endpoint for authentication\n",
    "prompts = ['Enter NASA Earthdata Login Username: ',\n",
    "           'Enter NASA Earthdata Login Password: ']\n",
    "\n",
    "# Determine the OS (Windows machines usually use an '_netrc' file)\n",
    "netrc_name = \"_netrc\" if system()==\"Windows\" else \".netrc\"\n",
    "\n",
    "# Determine if netrc file exists, and if so, if it includes NASA Earthdata Login Credentials\n",
    "try:\n",
    "    netrcDir = os.path.expanduser(f\"~/{netrc_name}\")\n",
    "    netrc(netrcDir).authenticators(urs)[0]\n",
    "\n",
    "# Below, create a netrc file and prompt user for NASA Earthdata Login Username and Password\n",
    "except FileNotFoundError:\n",
    "    homeDir = os.path.expanduser(\"~\")\n",
    "    Popen('touch {0}{2} | echo machine {1} >> {0}{2}'.format(homeDir + os.sep, urs, netrc_name), shell=True)\n",
    "    Popen('echo login {} >> {}{}'.format(getpass(prompt=prompts[0]), homeDir + os.sep, netrc_name), shell=True)\n",
    "    Popen('echo \\'password {} \\'>> {}{}'.format(getpass(prompt=prompts[1]), homeDir + os.sep, netrc_name), shell=True)\n",
    "    # Set restrictive permissions\n",
    "    Popen('chmod 0600 {0}{1}'.format(homeDir + os.sep, netrc_name), shell=True)\n",
    "\n",
    "    # Determine OS and edit netrc file if it exists but is not set up for NASA Earthdata Login\n",
    "except TypeError:\n",
    "    homeDir = os.path.expanduser(\"~\")\n",
    "    Popen('echo machine {1} >> {0}{2}'.format(homeDir + os.sep, urs, netrc_name), shell=True)\n",
    "    Popen('echo login {} >> {}{}'.format(getpass(prompt=prompts[0]), homeDir + os.sep, netrc_name), shell=True)\n",
    "    Popen('echo \\'password {} \\'>> {}{}'.format(getpass(prompt=prompts[1]), homeDir + os.sep, netrc_name), shell=True)"
   ]
  },
  {
   "cell_type": "code",
   "execution_count": null,
   "metadata": {},
   "outputs": [],
   "source": [
    "# GDAL configurations used to successfully access PODAAC Cloud Assets via vsicurl \n",
    "gdal.SetConfigOption('GDAL_HTTP_COOKIEFILE','~/cookies.txt')\n",
    "gdal.SetConfigOption('GDAL_HTTP_COOKIEJAR', '~/cookies.txt')\n",
    "gdal.SetConfigOption('GDAL_DISABLE_READDIR_ON_OPEN','EMPTY_DIR')\n",
    "gdal.SetConfigOption('CPL_VSIL_CURL_ALLOWED_EXTENSIONS','TIF')"
   ]
  },
  {
   "cell_type": "code",
   "execution_count": null,
   "metadata": {},
   "outputs": [],
   "source": [
    "# USER-DEFINED PARAMETERS\n",
    "aoi = box(67.4, 26.2, 68.0, 26.8)\n",
    "start_date = datetime(2022, 1, 1)                                       # in 2022-01-01 00:00:00 format\n",
    "stop_date = f\"{datetime.today().strftime('%Y-%m-%d')} 23:59:59\"         # in 2022-01-01 00:00:00 format\n",
    "overlap_threshold = 50                                                  # in percent\n",
    "#cloud_cover_threshold = 40                                              # in percent\n",
    "\n",
    "print(f\"Search between {start_date} and {stop_date}\")\n",
    "print(f\"With AOI: {aoi.__geo_interface__}\")"
   ]
  },
  {
   "cell_type": "code",
   "execution_count": null,
   "metadata": {},
   "outputs": [],
   "source": [
    "# Search data through CMR-STAC API\n",
    "stac = 'https://cmr.earthdata.nasa.gov/cloudstac/'    # CMR-STAC API Endpoint\n",
    "api = Client.open(f'{stac}/POCLOUD/')\n",
    "collections = ['OPERA_L3_DSWX-HLS_PROVISIONAL_V0']\n",
    "\n",
    "search_params = {\"collections\": collections,\n",
    "                 \"intersects\": aoi.__geo_interface__,\n",
    "                 \"datetime\": [start_date, stop_date],\n",
    "                 \"max_items\": 1000}\n",
    "search_dswx = api.search(**search_params)"
   ]
  },
  {
   "cell_type": "code",
   "execution_count": null,
   "metadata": {},
   "outputs": [],
   "source": [
    "# Function to calculate percentage overlap between user-defined bbox and dswx tile\n",
    "def intersection_percent(item: Item, aoi: Dict[str, Any]) -> float:\n",
    "    '''The percentage that the Item's geometry intersects the AOI. An Item that\n",
    "    completely covers the AOI has a value of 100.\n",
    "    '''\n",
    "    geom_item = shape(item.geometry)\n",
    "    geom_aoi = shape(aoi)\n",
    "    intersected_geom = geom_aoi.intersection(geom_item)\n",
    "    intersection_percent = (intersected_geom.area * 100) / geom_aoi.area\n",
    "\n",
    "    return intersection_percent"
   ]
  },
  {
   "cell_type": "code",
   "execution_count": null,
   "metadata": {},
   "outputs": [],
   "source": [
    "# Filter datasets based on spatial overlap and cloud cover\n",
    "intersects_geometry = aoi.__geo_interface__\n",
    "\n",
    "#Check percent overlap values\n",
    "print(\"Percent overlap before filtering: \")\n",
    "print([f\"{intersection_percent(i, intersects_geometry):.2f}\" for i in search_dswx.items()])\n",
    "\n",
    "# Apply spatial overlap\n",
    "dswx_filtered = (\n",
    "    i for i in search_dswx.items() if intersection_percent(i, intersects_geometry) > overlap_threshold \n",
    ")"
   ]
  },
  {
   "cell_type": "code",
   "execution_count": null,
   "metadata": {},
   "outputs": [],
   "source": [
    "# Inspect the items inside the filltered query\n",
    "dswx_data = list(dswx_filtered)\n",
    "# Inspect one data\n",
    "dswx_data[0].to_dict()"
   ]
  },
  {
   "cell_type": "code",
   "execution_count": null,
   "metadata": {},
   "outputs": [],
   "source": [
    "## Print search information\n",
    "# Tota granules\n",
    "print(f\"Total granules after search filter: {len(dswx_data)}\")\n",
    "\n",
    "#Check percent overlap values\n",
    "print(\"Percent-overlap: \")\n",
    "print([f\"{intersection_percent(i, intersects_geometry):.2f}\" for i in dswx_data])"
   ]
  },
  {
   "cell_type": "code",
   "execution_count": null,
   "metadata": {},
   "outputs": [],
   "source": [
    "geom_df = []\n",
    "for d,_ in enumerate(dswx_data):\n",
    "    geom_df.append(shape(dswx_data[d].geometry))\n",
    "\n",
    "geom_granules = gpd.GeoDataFrame({'geometry':geom_df})\n",
    "granules_poly = gv.Polygons(geom_granules, label='DSWx tile boundary').opts(line_color='blue', color=None, show_legend=True)\n",
    "\n",
    "# Use geoviews to combine a basemap with the shapely polygon of our Region of Interest (ROI)\n",
    "base = gv.tile_sources.EsriImagery.opts(width=1000, height=1000)\n",
    "\n",
    "# Get the user-specified aoi\n",
    "geom_aoi = shape(intersects_geometry)\n",
    "aoi_poly = gv.Polygons(geom_aoi, label='User-specified bbox').opts(line_color='yellow', color=None, show_legend=True)\n",
    "\n",
    "# Plot using geoviews wrapper\n",
    "granules_poly*base*aoi_poly"
   ]
  },
  {
   "cell_type": "code",
   "execution_count": null,
   "metadata": {},
   "outputs": [],
   "source": [
    "print([f\"{i.properties['datetime']}\" for i in dswx_data])"
   ]
  },
  {
   "cell_type": "code",
   "execution_count": null,
   "metadata": {},
   "outputs": [],
   "source": [
    "dswx_data_df = []\n",
    "for item in dswx_data:\n",
    "    item.to_dict()\n",
    "    ID = item.id\n",
    "    dat = item.datetime.strftime('%Y-%m-%d')\n",
    "    spatial_coverage = intersection_percent(item, intersects_geometry)\n",
    "    geom = item.geometry\n",
    "    try:\n",
    "        thumb = item.assets['browse'].href\n",
    "    except KeyError:\n",
    "        thumb = item.assets['0_BROWSE'].href\n",
    "\n",
    "    # Take only B01-WTR, B02-BWTR, B03-CONF layers\n",
    "    band_links = [item.assets['0_B01_WTR'].href, item.assets['0_B02_BWTR'].href, item.assets['0_B03_CONF'].href]\n",
    "    dswx_data_df.append([dat,ID,geom,spatial_coverage,band_links,thumb])\n",
    "\n",
    "dswx_data_df = pd.DataFrame(dswx_data_df, columns = ['Date', 'ID', 'Footprint','Spatial_Coverage','Band_Links','Thumbnail'])\n",
    "dswx_data_df"
   ]
  },
  {
   "cell_type": "code",
   "execution_count": null,
   "metadata": {},
   "outputs": [],
   "source": [
    "# Check out one of the dataset\n",
    "dswx_data_df.iloc[1].Band_Links"
   ]
  },
  {
   "cell_type": "code",
   "execution_count": null,
   "metadata": {},
   "outputs": [],
   "source": [
    "# Function to read each layers and stack them to create a geocube\n",
    "def stack_bands(bandpath:str, bandlist:list): \n",
    "    '''\n",
    "    Returns geocube with three bands stacked into one multi-dimensional array.\n",
    "            Parameters:\n",
    "                    bandpath (str): Path to bands that should be stacked\n",
    "                    bandlist (list): Three bands that should be stacked\n",
    "            Returns:\n",
    "                    bandStack (xarray Dataset): Geocube with stacked bands\n",
    "                    crs (int): Coordinate Reference System corresponding to bands\n",
    "    '''\n",
    "    bandStack = []; bandS = []; bandStack_ = [];\n",
    "    for i,band in enumerate(bandlist):\n",
    "        if i==0:\n",
    "            bandStack_ = xr.open_rasterio(bandpath%band)\n",
    "            crs = pyproj.CRS.to_epsg(pyproj.CRS.from_proj4(bandStack_.crs))\n",
    "            bandStack_ = bandStack_ * bandStack_.scales[0]\n",
    "            bandStack = bandStack_.squeeze(drop=True)\n",
    "            bandStack = bandStack.to_dataset(name='z')\n",
    "            bandStack.coords['band'] = i+1\n",
    "            bandStack = bandStack.rename({'x':'longitude', 'y':'latitude', 'band':'band'})\n",
    "            bandStack = bandStack.expand_dims(dim='band')  \n",
    "        else:\n",
    "            bandS = xr.open_rasterio(bandpath%band)\n",
    "            bandS = bandS * bandS.scales[0]\n",
    "            bandS = bandS.squeeze(drop=True)\n",
    "            bandS = bandS.to_dataset(name='z')\n",
    "            bandS.coords['band'] = i+1\n",
    "            bandS = bandS.rename({'x':'longitude', 'y':'latitude', 'band':'band'})\n",
    "            bandS = bandS.expand_dims(dim='band')\n",
    "            bandStack = xr.concat([bandStack, bandS], dim='band')\n",
    "    return bandStack, crs"
   ]
  },
  {
   "cell_type": "code",
   "execution_count": null,
   "metadata": {},
   "outputs": [],
   "source": [
    "data_dir = dswx_data_df.iloc[1].Band_Links[0].split('v0.0')[0]\n",
    "bandlist = ['B01_WTR', 'B02_BWTR', 'B03_CONF']\n",
    "bandpath = f\"{data_dir}v0.0_%s.tif\"\n",
    "bandpath"
   ]
  },
  {
   "cell_type": "code",
   "execution_count": null,
   "metadata": {},
   "outputs": [],
   "source": [
    "# Creates geocube of stacked bands\n",
    "da, crs = stack_bands(bandpath, bandlist)\n",
    "\n",
    "# Creates basemap using geoviews\n",
    "base = gv.tile_sources.EsriImagery.opts(width=1000, height=1000, padding=0.1)"
   ]
  },
  {
   "cell_type": "code",
   "execution_count": null,
   "metadata": {},
   "outputs": [],
   "source": [
    "# Mask nodata values (255)\n",
    "da_masked = da.where(da['z'] != 255.) \n",
    "B01_WTR = da_masked.z.sel({'band':1})\n",
    "B02_BWTR = da_masked.z.sel({'band':2}) \n",
    "B03_CONF = da_masked.z.sel({'band':3}) "
   ]
  },
  {
   "cell_type": "code",
   "execution_count": null,
   "metadata": {},
   "outputs": [],
   "source": [
    "# Vizualize B01 - WATER CLASSIFICATION LAYER\n",
    "# Parameters for Colorbar\n",
    "levels = [0, 0.9, 1.9, 2.9, 7.9, 8.9, 10]\n",
    "color_key = {\n",
    "    \"Not Water\": \"#ffffff\",\n",
    "    \"Open Water\": \"#0000ff\",\n",
    "    \"Partial Surface Water\": \"#00ff00\",\n",
    "    \"Reserved\": \"#000000\",\n",
    "    \"Snow/Ice\": \"#00ffff\",\n",
    "    \"Clouds/Cloud Shadow\": \"#7f7f7f\"\n",
    "}\n",
    "\n",
    "ticks = [0.5, 1.5, 2.5, 5.5, 8.5, 9.5]\n",
    "ticker = FixedTicker(ticks=ticks)\n",
    "labels = dict(zip(ticks, color_key))\n",
    "\n",
    "fig = B01_WTR.hvplot.image(x='longitude', \n",
    "                          y='latitude', \n",
    "                          crs=crs, \n",
    "                          rasterize=False, \n",
    "                          dynamic=False, \n",
    "                          aspect='equal', \n",
    "                          frame_width=500,\n",
    "                          clim=(0,255),\n",
    "                          frame_height=500, \n",
    "                          alpha=0.8).opts(title=f\"B01 WTR\", xlabel='Longitude', ylabel='Latitude', color_levels= levels, cmap=tuple(color_key.values()), \n",
    "                                        colorbar_opts={'ticker': ticker, 'major_label_overrides': labels}, clim=(0,10)) * base\n",
    "#Uncomment to save\n",
    "#hvplot.save(fig, 'B01_WTR.png')\n",
    "fig"
   ]
  },
  {
   "cell_type": "code",
   "execution_count": null,
   "metadata": {},
   "outputs": [],
   "source": [
    "# Vizualize B02 - BINARY WATER LAYER\n",
    "# Parameters for Colorbar\n",
    "levels = [0, 0.9, 1.9, 7.9, 8.9, 10]\n",
    "color_key = {\n",
    "    \"Not Water\": \"#ffffff\",\n",
    "    \"Open Water\": \"#0000ff\",\n",
    "    \"Reserved\": \"#000000\",\n",
    "    \"Snow/Ice\": \"#00ffff\",\n",
    "    \"Clouds/Cloud Shadow\": \"#7f7f7f\"\n",
    "}\n",
    "\n",
    "ticks = [0.5, 1.5, 5.5, 8.5, 9.5]\n",
    "ticker = FixedTicker(ticks=ticks)\n",
    "labels = dict(zip(ticks, color_key))\n",
    "\n",
    "fig = B02_BWTR.hvplot.image(x='longitude', \n",
    "                          y='latitude', \n",
    "                          crs=crs, \n",
    "                          rasterize=False, \n",
    "                          dynamic=False, \n",
    "                          aspect='equal', \n",
    "                          frame_width=500,\n",
    "                          clim=(0,255),\n",
    "                          frame_height=500, \n",
    "                          alpha=0.8).opts(title=f\"B02 BWTR\", xlabel='Longitude', ylabel='Latitude', color_levels= levels, cmap=tuple(color_key.values()), \n",
    "                                        colorbar_opts={'ticker': ticker, 'major_label_overrides': labels}, clim=(0,10)) * base\n",
    "#Uncomment to save\n",
    "#hvplot.save(fig, 'B02_BWTR.png')\n",
    "fig"
   ]
  },
  {
   "cell_type": "code",
   "execution_count": null,
   "metadata": {},
   "outputs": [],
   "source": [
    "# Vizualize B03 - CONFIDENCE LAYER\n",
    "# Parameters for Colorbar\n",
    "with rio.open(f\"{data_dir}v0.0_B03_CONF.tif\") as ds:\n",
    "    colormap = ds.colormap(1)\n",
    "\n",
    "color_key = ListedColormap([np.array(colormap[key]) / 255 for key in range(256)])\n",
    "ticks = [0, 50, 100, 175, 245, 255]\n",
    "ticker = FixedTicker(ticks=ticks)\n",
    "labels = dict(zip(ticks, [\"0\", \"Confidence\", \"100\", \"Reserved\", \"Snow/Ice\", \"Clouds/Cloud Shadow\"]))\n",
    "\n",
    "fig = B03_CONF.hvplot.image(x='longitude', \n",
    "                          y='latitude', \n",
    "                          crs=crs, \n",
    "                          rasterize=False, \n",
    "                          dynamic=False, \n",
    "                          aspect='equal', \n",
    "                          frame_width=500,\n",
    "                          clim=(0,255),\n",
    "                          frame_height=500, \n",
    "                          alpha=0.8).opts(title=f\"B03 CONF\", xlabel='Longitude', ylabel='Latitude', cmap=color_key,\n",
    "                                    colorbar_opts={'ticker': ticker, 'major_label_overrides': labels}) * base\n",
    "#Uncomment to save\n",
    "#hvplot.save(fig, 'B03_CONF.png')\n",
    "fig"
   ]
  }
 ],
 "metadata": {
  "kernelspec": {
   "display_name": "opera_app",
   "language": "python",
   "name": "python3"
  },
  "language_info": {
   "codemirror_mode": {
    "name": "ipython",
    "version": 3
   },
   "file_extension": ".py",
   "mimetype": "text/x-python",
   "name": "python",
   "nbconvert_exporter": "python",
   "pygments_lexer": "ipython3",
   "version": "3.7.12"
  },
  "orig_nbformat": 4,
  "vscode": {
   "interpreter": {
    "hash": "7ac83203ce9ab6b3d7fc0591598c255c96528b012280e4292535d8d9c4d1218c"
   }
  }
 },
 "nbformat": 4,
 "nbformat_minor": 2
}
