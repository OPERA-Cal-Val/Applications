{
 "cells": [
  {
   "cell_type": "markdown",
   "metadata": {},
   "source": [
    "# Generate Flood Maps without downloading OPERA DSWx-S1 products locally\n",
    "## This tutorial demonstrates how to query and work with the OPERA DSWx-S1 Provisional Data products locally.\n",
    "\n",
    "---    \n",
    "\n",
    "### Data Used in the Example:   \n",
    "\n",
    "- **30 meter (m) global OPERA Dynamic Surface Water Extent from Sentinel-1A/B provisional product (Version 0.1)**\n",
    "    - This dataset contains Level-3 Dynamic OPERA surface water extent from Sentinel-1A/B provisional product version 0.1. The data are provisional non-validated surface water extent observations over selective locations and times spanning from November 2023 to May 2024. The input dataset for generating each product is the the OPERA Level-2 Radiometric Terrain-Corrected product from Sentinel-1A/B data (RTC-S1). The OPERA RTC-S1 products provide the radiometric terrain corrected γ0 backscatter coefficient in geocoded burst domain, approximately every 6 to 12 days. The OPERA RTC-S1 products are produced and distributed in the Universal Transverse Mercator (UTM) coordinate System for each single burst. The DSWx-S1 products will be produced over Military Grid Reference System (MGRS) tiles that each cover an area of 109.8 km × 109.8 km. This area is divided into 3,660 rows and 3,660 columns at 30-m pixel spacing. Each product is distributed as a set of 3 GeoTIFF (Geographic Tagged Image File Format) files including bindary water, water classification, and associated confidence.\n",
    "     - **Science Dataset (SDS) layers: 2024 Rio Grande do Sul flood**\n",
    "        - Starting in late April 2024, southern Brazil/northern Uruguay faced severe weather conditions with extreme rainfall. This led to significant and deadly flooding, which continued well into May [[EO](https://earthobservatory.nasa.gov/images/152880/southern-brazil-submerged)]. Here, we demonstrate how DSWx-S1 can be used to map inundation extent as a result of the flooding event.\n",
    "        - B02_BWTR (Binary Water Layer)  \n",
    "        - B03_CONF (Confidence Layer)  \n",
    "\n",
    "Please refer to the [OPERA Product Specification Document](https://d2pn8kiwq2w21t.cloudfront.net/documents/ProductSpec_DSWX_S1.pdf) for details about the DSWx-S1 product."
   ]
  },
  {
   "attachments": {},
   "cell_type": "markdown",
   "metadata": {},
   "source": [
    "---\n",
    "## 1. Getting Started <a id=\"getstarted\"></a>"
   ]
  },
  {
   "attachments": {},
   "cell_type": "markdown",
   "metadata": {},
   "source": [
    "### 1.1 Import Packages <a id=\"1.1\"></a>"
   ]
  },
  {
   "cell_type": "code",
   "execution_count": null,
   "metadata": {},
   "outputs": [],
   "source": [
    "%load_ext autoreload\n",
    "%autoreload 2"
   ]
  },
  {
   "cell_type": "code",
   "execution_count": null,
   "metadata": {},
   "outputs": [],
   "source": [
    "import os\n",
    "import sys\n",
    "from datetime import datetime\n",
    "import warnings\n",
    "\n",
    "import folium\n",
    "import geoviews as gv\n",
    "import geopandas as gpd\n",
    "import holoviews as hv\n",
    "import numpy as np\n",
    "from folium import plugins\n",
    "import rasterio\n",
    "from rioxarray.merge import merge_arrays\n",
    "from shapely.geometry import Polygon, box, shape\n",
    "\n",
    "# Holoviews and Geoviews extensions\n",
    "hv.extension('bokeh')\n",
    "gv.extension('bokeh', 'matplotlib')\n",
    "\n",
    "# Local application/library-specific imports\n",
    "import sys\n",
    "project_root = '../../'\n",
    "sys.path.append(project_root)\n",
    "from src.dswx_utils import (\n",
    "    colorize,\n",
    "    getbasemaps,\n",
    "    transform_data_for_folium,\n",
    "    query_s3_bucket\n",
    ")\n",
    "\n",
    "# Suppress warnings\n",
    "warnings.filterwarnings('ignore')"
   ]
  },
  {
   "attachments": {},
   "cell_type": "markdown",
   "metadata": {},
   "source": [
    "### 1.2 Set up Working Environment <a id=\"1.2\"></a>"
   ]
  },
  {
   "cell_type": "code",
   "execution_count": null,
   "metadata": {},
   "outputs": [],
   "source": [
    "inDir = os.getcwd()\n",
    "os.chdir(inDir)"
   ]
  },
  {
   "attachments": {},
   "cell_type": "markdown",
   "metadata": {},
   "source": [
    "## 2. Access data locally <a id=\"searchstac\"></a>"
   ]
  },
  {
   "attachments": {},
   "cell_type": "markdown",
   "metadata": {},
   "source": [
    "### 2.1 Initialize user-defined parameters <a id=\"2.1\"></a>"
   ]
  },
  {
   "cell_type": "code",
   "execution_count": null,
   "metadata": {},
   "outputs": [],
   "source": [
    "# USER-DEFINED PARAMETERS\n",
    "aoi = box(-53.26679, -30.84813, -50.15623, -28.91014)  # West, South, East, North\n",
    "start_date = datetime(2023, 11, 24)                    # in 2024-01-01 00:00:00 format\n",
    "stop_date = datetime(2024, 5, 9)                       # in 2024-01-01 00:00:00 format\n",
    "overlap_threshold = 10                                 # in percent\n",
    "\n",
    "print(f\"Event interval between {start_date} and {stop_date}\")\n",
    "print(f\"With AOI: {aoi.__geo_interface__}\")"
   ]
  },
  {
   "cell_type": "code",
   "execution_count": null,
   "metadata": {},
   "outputs": [],
   "source": [
    "# get list of BWTR layers\n",
    "bwtr_ext = '_B02_BWTR.tif'\n",
    "\n",
    "# Define the bucket name\n",
    "bucket_name = 'opera-provisional-products'\n",
    "\n",
    "# Get the list of files matching the wildcard pattern\n",
    "bwtr_pattern = f'DSWx/DSWx_S1/beta/v0.1/Brazil_2024/*/*{bwtr_ext}'\n",
    "bwtr_lyrs = query_s3_bucket(bucket_name, bwtr_pattern)"
   ]
  },
  {
   "cell_type": "code",
   "execution_count": null,
   "metadata": {},
   "outputs": [],
   "source": [
    "# Create a dataframe, and pass only tiles that intersect with the user-defined bbox\n",
    "search_dswx = gpd.GeoDataFrame(columns=['bwtr_name', 'TileID',\n",
    "                                        'Sensor', 'Date', 'Coords', 'bbox',\n",
    "                                        'SpatialOverlap', 'geometry'], crs='EPSG:4326')\n",
    "for i in bwtr_lyrs:\n",
    "    # get iterative names\n",
    "    fname_base = os.path.basename(i.split(bwtr_ext)[0])\n",
    "    fn = os.path.basename(i).split('_')\n",
    "    ID = fn[3]\n",
    "    sensor = fn[6]\n",
    "    dat = datetime.strptime(fn[4][:8], '%Y%m%d')\n",
    "\n",
    "    ## get geometry\n",
    "    ds, _ = transform_data_for_folium(i)\n",
    "    ds_bounds = ds.rio.bounds()\n",
    "    x_max = ds_bounds[2]\n",
    "    x_min = ds_bounds[0]\n",
    "    y_max = ds_bounds[3]\n",
    "    y_min = ds_bounds[1]\n",
    "    # Create a Polygon geometry\n",
    "    ds_polygon = Polygon([(x_min, y_min), (x_min, y_max),\n",
    "                         (x_max, y_max), (x_max, y_min)])\n",
    "    coords = [i for i in ds_polygon.exterior.coords]\n",
    "    bbox = ds_polygon.bounds\n",
    "\n",
    "    # get intersection\n",
    "    intersected_geom = ds_polygon.intersection(aoi)\n",
    "    spatial_overlap = (intersected_geom.area * 100) / ds_polygon.area\n",
    "\n",
    "    # Query DSWx-S1 tiles based on spatial overlap with respect to defined AOI\n",
    "    if spatial_overlap > overlap_threshold:\n",
    "        # Create a dictionary for the new row\n",
    "        new_row = {'bwtr_name': i,\n",
    "                   'TileID': ID,\n",
    "                   'Sensor': sensor,\n",
    "                   'Date': dat,\n",
    "                   'Coords': coords,\n",
    "                   'bbox': bbox,\n",
    "                   'SpatialOverlap': spatial_overlap,\n",
    "                   'geometry': ds_polygon}\n",
    "        # Convert the dictionary to a GeoDataFrame\n",
    "        new_gdf = gpd.GeoDataFrame([new_row], crs='EPSG:4326')\n",
    "        # Append the new GeoDataFrame to the existing one\n",
    "        search_dswx = search_dswx.append(new_gdf, ignore_index=True)\n"
   ]
  },
  {
   "cell_type": "code",
   "execution_count": null,
   "metadata": {},
   "outputs": [],
   "source": [
    "## View snippet of dataframe\n",
    "search_dswx.head()"
   ]
  },
  {
   "cell_type": "code",
   "execution_count": null,
   "metadata": {},
   "outputs": [],
   "source": [
    "## Print search information\n",
    "# Total granules\n",
    "print(f\"{len(search_dswx)} granules after search filter, out of {len(bwtr_lyrs)} total\")\n",
    "\n",
    "# Check percent overlap values\n",
    "min_index = search_dswx['SpatialOverlap'].idxmin()\n",
    "print(f\"tile {search_dswx.loc[min_index]['bwtr_name']} \\n\" + \\\n",
    "      f\"has the minimum spatial overlap in the set of {min(search_dswx['SpatialOverlap']):.2f} \\n\\n\")\n",
    "\n",
    "max_index = search_dswx['SpatialOverlap'].idxmax()\n",
    "print(f\"tile {search_dswx.loc[max_index]['bwtr_name']} \\n\" + \\\n",
    "      f\"has the maximum spatial overlap in the set of {max(search_dswx['SpatialOverlap']):.2f}\")"
   ]
  },
  {
   "cell_type": "code",
   "execution_count": null,
   "metadata": {},
   "outputs": [],
   "source": [
    "# Visualize the DSWx tile boundary and the user-defined bbox\n",
    "granules_poly = gv.Polygons(search_dswx['geometry'], label='DSWx tile boundary').opts(line_color='blue', color=None, show_legend=True)\n",
    "\n",
    "# Use geoviews to combine a basemap with the shapely polygon of our Region of Interest (ROI)\n",
    "base = gv.tile_sources.EsriImagery.opts(width=1000, height=1000)\n",
    "\n",
    "# Get the user-specified aoi\n",
    "intersects_geometry = aoi.__geo_interface__\n",
    "geom_aoi = shape(intersects_geometry)\n",
    "aoi_poly = gv.Polygons(geom_aoi, label='User-specified bbox').opts(line_color='yellow', color=None, show_legend=True)\n",
    "\n",
    "# Plot using geoviews wrapper\n",
    "granules_poly*base*aoi_poly"
   ]
  },
  {
   "attachments": {},
   "cell_type": "markdown",
   "metadata": {},
   "source": [
    "## 3. Load and visualize the flood extent <a id=\"loadandvizdswx\"></a>"
   ]
  },
  {
   "attachments": {},
   "cell_type": "markdown",
   "metadata": {},
   "source": [
    "### 3.1.a Merge tiles for images captured before the flood event <a id=\"3.1.a\"></a>"
   ]
  },
  {
   "cell_type": "code",
   "execution_count": null,
   "metadata": {},
   "outputs": [],
   "source": [
    "# calculate difference in time between tile acquisition and specified start date\n",
    "search_dswx['TimeDiff'] = (search_dswx['Date'] - start_date).abs()\n",
    "index_of_closest_date = search_dswx['TimeDiff'].idxmin()\n",
    "\n",
    "# determine closest acquisition date\n",
    "capture_date = search_dswx.loc[index_of_closest_date]['Date']\n",
    "pre_flood_tiles = search_dswx[search_dswx['Date'] == capture_date]\n",
    "\n",
    "# capture relevant images to merge\n",
    "pre_flood_bwrt = pre_flood_tiles['bwtr_name'].to_list()\n",
    "\n",
    "# drop time delta column\n",
    "search_dswx.drop(columns=['TimeDiff'], inplace=True)"
   ]
  },
  {
   "cell_type": "code",
   "execution_count": null,
   "metadata": {},
   "outputs": [],
   "source": [
    "# merge all BWTR layers\n",
    "transformed_BWTR_arr = []\n",
    "for i in pre_flood_bwrt:\n",
    "    transformed_arr, cm_BWTR = transform_data_for_folium(i)\n",
    "    transformed_BWTR_arr.append(transformed_arr)\n",
    "merged_BWTR_pre = merge_arrays(transformed_BWTR_arr)\n",
    "\n",
    "# Check one of the DataArrays\n",
    "merged_BWTR_pre"
   ]
  },
  {
   "attachments": {},
   "cell_type": "markdown",
   "metadata": {},
   "source": [
    "### 3.1.b Visualize merged \"pre-flood\" tiles using Folium <a id=\"3.1.b\"></a>"
   ]
  },
  {
   "cell_type": "code",
   "execution_count": null,
   "metadata": {},
   "outputs": [],
   "source": [
    "# get different expected input derivatives of the bounds\n",
    "WSEN = merged_BWTR_pre.rio.bounds()\n",
    "ESWN_bounds = [WSEN[2], WSEN[1], WSEN[0], WSEN[3]]\n",
    "SWNE_bounds = [[WSEN[1], WSEN[0]], [WSEN[3], WSEN[2]]]"
   ]
  },
  {
   "cell_type": "code",
   "execution_count": null,
   "metadata": {},
   "outputs": [],
   "source": [
    "# save pre-flooding image to file, with static water masked out\n",
    "merged_BWTR_pre.rio.to_raster(\"merged_BWTR_preflood.tif\")"
   ]
  },
  {
   "cell_type": "code",
   "execution_count": null,
   "metadata": {},
   "outputs": [],
   "source": [
    "# Colorize the map using predefined colors from DSWx for Folium display\n",
    "colored_BWTR_pre,cmap_BWTR = colorize(merged_BWTR_pre[0], cmap=cm_BWTR)"
   ]
  },
  {
   "cell_type": "code",
   "execution_count": null,
   "metadata": {},
   "outputs": [],
   "source": [
    "# Initialize Folium basemap\n",
    "xmid = (SWNE_bounds[0][1]+SWNE_bounds[1][1])/2\n",
    "ymid = (SWNE_bounds[0][0]+SWNE_bounds[1][0])/2\n",
    "m = folium.Map(location=[ymid, xmid], zoom_start=9, tiles='CartoDB positron', show=True)\n",
    "\n",
    "# Add custom basemaps\n",
    "basemaps = getbasemaps()\n",
    "for basemap in basemaps:\n",
    "    basemaps[basemap].add_to(m)\n",
    "\n",
    "# Overlay B02 and B03 layers\n",
    "folium.raster_layers.ImageOverlay(colored_BWTR_pre, \n",
    "                                  opacity=0.6, \n",
    "                                  bounds=SWNE_bounds,\n",
    "                                  mercator_project=True, # need to add to fix pixel offset\n",
    "                                  name='Pre-flood water extent',\n",
    "                                  show=True).add_to(m)\n",
    "\n",
    "# layer control\n",
    "m.add_child(folium.LayerControl())\n",
    "\n",
    "# Add fullscreen button\n",
    "plugins.Fullscreen().add_to(m)\n",
    "\n",
    "# Add inset minimap image\n",
    "minimap = plugins.MiniMap(width=300, height=300)\n",
    "m.add_child(minimap)\n",
    "\n",
    "# Mouse Position\n",
    "fmtr = \"function(num) {return L.Util.formatNum(num, 3) + ' º ';};\"\n",
    "plugins.MousePosition(position='bottomright', separator=' | ', prefix=\"Lat/Lon:\",\n",
    "                     lat_formatter=fmtr, lng_formatter=fmtr).add_to(m)\n",
    "\n",
    "# Display\n",
    "m"
   ]
  },
  {
   "cell_type": "markdown",
   "metadata": {},
   "source": [
    "### 3.2.a Merge tiles for images captured during the flood event<a id=\"3.2.a\"></a>"
   ]
  },
  {
   "cell_type": "code",
   "execution_count": null,
   "metadata": {},
   "outputs": [],
   "source": [
    "# calculate difference in time between tile acquisition and specified start date\n",
    "search_dswx['TimeDiff'] = (search_dswx['Date'] - stop_date).abs()\n",
    "index_of_closest_date = search_dswx['TimeDiff'].idxmin()\n",
    "\n",
    "# determine closest acquisition date\n",
    "capture_date = search_dswx.loc[index_of_closest_date]['Date']\n",
    "flood_tiles = search_dswx[search_dswx['Date'] == capture_date]\n",
    "\n",
    "# capture relevant images to merge\n",
    "flood_bwrt = flood_tiles['bwtr_name'].to_list()\n",
    "\n",
    "# drop time delta column\n",
    "search_dswx.drop(columns=['TimeDiff'], inplace=True)"
   ]
  },
  {
   "cell_type": "code",
   "execution_count": null,
   "metadata": {},
   "outputs": [],
   "source": [
    "# merge all BWTR layers\n",
    "transformed_BWTR_arr = []\n",
    "for i in flood_bwrt:\n",
    "    transformed_arr, cm_BWTR = transform_data_for_folium(i)\n",
    "    transformed_BWTR_arr.append(transformed_arr)\n",
    "merged_BWTR_flood = merge_arrays(transformed_BWTR_arr)\n",
    "\n",
    "# Check one of the DataArrays\n",
    "merged_BWTR_flood"
   ]
  },
  {
   "cell_type": "markdown",
   "metadata": {},
   "source": [
    "### 3.2.b Visualize merged flood tiles using Folium <a id=\"3.2.b\"></a>"
   ]
  },
  {
   "cell_type": "code",
   "execution_count": null,
   "metadata": {},
   "outputs": [],
   "source": [
    "WSEN = merged_BWTR_flood.rio.bounds()\n",
    "ESWN_bounds = [WSEN[2], WSEN[1], WSEN[0], WSEN[3]]\n",
    "SWNE_bounds = [[WSEN[1], WSEN[0]], [WSEN[3], WSEN[2]]]"
   ]
  },
  {
   "cell_type": "code",
   "execution_count": null,
   "metadata": {},
   "outputs": [],
   "source": [
    "# save late flooding image to file, with static water masked out\n",
    "merged_BWTR_flood.data[0][merged_BWTR_pre[0][:,:] == 255] = 255\n",
    "merged_BWTR_flood.rio.to_raster(\"merged_BWTR_floodimage.tif\")"
   ]
  },
  {
   "cell_type": "code",
   "execution_count": null,
   "metadata": {},
   "outputs": [],
   "source": [
    "# Colorize the map using predefined colors from DSWx for Folium display\n",
    "colored_BWTR_flood,cmap_BWTR = colorize(merged_BWTR_flood[0], cmap=cm_BWTR)"
   ]
  },
  {
   "cell_type": "code",
   "execution_count": null,
   "metadata": {},
   "outputs": [],
   "source": [
    "# Compute change in flooding between early and late-flooding tiles\n",
    "colored_BWTR_change = np.logical_and(colored_BWTR_flood == 1, \\\n",
    "                                     colored_BWTR_pre == 0).astype(int)"
   ]
  },
  {
   "cell_type": "code",
   "execution_count": null,
   "metadata": {},
   "outputs": [],
   "source": [
    "# delete some variables to free up space\n",
    "del merged_BWTR_flood, merged_BWTR_pre, colored_BWTR_pre"
   ]
  },
  {
   "cell_type": "code",
   "execution_count": null,
   "metadata": {},
   "outputs": [],
   "source": [
    "# Initialize Folium basemap\n",
    "xmid = (SWNE_bounds[0][1]+SWNE_bounds[1][1])/2\n",
    "ymid = (SWNE_bounds[0][0]+SWNE_bounds[1][0])/2\n",
    "m = folium.Map(location=[ymid, xmid], zoom_start=9, tiles='CartoDB positron', show=True)\n",
    "\n",
    "# Add custom basemaps\n",
    "basemaps = getbasemaps()\n",
    "for basemap in basemaps:\n",
    "    basemaps[basemap].add_to(m)\n",
    "\n",
    "# Overlay B02 and B03 layers\n",
    "folium.raster_layers.ImageOverlay(colored_BWTR_change, \n",
    "                                  opacity=0.6, \n",
    "                                  bounds=SWNE_bounds,\n",
    "                                  mercator_project=True, # need to add to fix pixel offset\n",
    "                                  name='Flood water extent',\n",
    "                                  show=True).add_to(m)\n",
    "\n",
    "# layer control\n",
    "m.add_child(folium.LayerControl())\n",
    "\n",
    "# Add fullscreen button\n",
    "plugins.Fullscreen().add_to(m)\n",
    "\n",
    "# Add inset minimap image\n",
    "minimap = plugins.MiniMap(width=300, height=300)\n",
    "m.add_child(minimap)\n",
    "\n",
    "# Mouse Position\n",
    "fmtr = \"function(num) {return L.Util.formatNum(num, 3) + ' º ';};\"\n",
    "plugins.MousePosition(position='bottomright', separator=' | ', prefix=\"Lat/Lon:\",\n",
    "                     lat_formatter=fmtr, lng_formatter=fmtr).add_to(m)\n",
    "\n",
    "# Display\n",
    "m"
   ]
  }
 ],
 "metadata": {
  "kernelspec": {
   "display_name": "opera_app_dev",
   "language": "python",
   "name": "python3"
  },
  "language_info": {
   "codemirror_mode": {
    "name": "ipython",
    "version": 3
   },
   "file_extension": ".py",
   "mimetype": "text/x-python",
   "name": "python",
   "nbconvert_exporter": "python",
   "pygments_lexer": "ipython3",
   "version": "3.10.13"
  },
  "orig_nbformat": 4,
  "vscode": {
   "interpreter": {
    "hash": "bff12bf762c2135bafcb19b3b536001906af3097d6f26a86554c7fc4e262c650"
   }
  }
 },
 "nbformat": 4,
 "nbformat_minor": 2
}
