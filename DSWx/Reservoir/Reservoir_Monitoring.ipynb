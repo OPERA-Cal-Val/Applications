{
 "cells": [
  {
   "attachments": {},
   "cell_type": "markdown",
   "metadata": {},
   "source": [
    "# Reservoir monitoring time series application using the OPERA DSWx product\n",
    "---\n",
    "\n",
    "**This notebook serves gives example applications of reservoir monitoring over Lake Mead, NV from 2013-2023.**"
   ]
  },
  {
   "cell_type": "code",
   "execution_count": null,
   "metadata": {},
   "outputs": [],
   "source": [
    "# notebook dependencies\n",
    "import os\n",
    "import math\n",
    "import xarray as xr\n",
    "import rasterio as rio\n",
    "import rioxarray as rioxr\n",
    "import hvplot.xarray\n",
    "import geoviews as gv\n",
    "import pyproj\n",
    "from pyproj import Proj\n",
    "import numpy as np\n",
    "import pandas as pd\n",
    "import geopandas as gpd\n",
    "import holoviews as hv\n",
    "import panel.widgets as pnw\n",
    "import datetime\n",
    "from datetime import datetime\n",
    "\n",
    "from bokeh.models import FixedTicker\n",
    "hv.extension('bokeh')\n",
    "\n",
    "import warnings\n",
    "warnings.filterwarnings('ignore')\n",
    "\n",
    "os.environ['AWS_NO_SIGN_REQUEST'] = 'YES'"
   ]
  },
  {
   "cell_type": "markdown",
   "metadata": {},
   "source": [
    "---\n",
    "## **Data Information Input**"
   ]
  },
  {
   "cell_type": "markdown",
   "metadata": {},
   "source": [
    "In the code cell below, the user should specify the:\n",
    "* Dates of interest <br>\n",
    "* Data directory<br>\n",
    "* Band of interest<br>\n",
    "* Path to shapefile to create mask<br><br>\n",
    "\n",
    "**<font color='red'>Note: The cell below is the only code in the notebook that should be modified. </font>**"
   ]
  },
  {
   "cell_type": "code",
   "execution_count": null,
   "metadata": {},
   "outputs": [],
   "source": [
    "# Access all provisional products from S3 bucket\n",
    "data_dir = sorted(open(\"aux_files/T11SQA_manifest.txt\",\"r\").read().split(\"\\n\"))\n",
    "for i,path in enumerate(data_dir):\n",
    "   if path != '': # discard empty entries\n",
    "       if path[91] == 'L': # Landsat 8 filenames\n",
    "           data_dir[i] = path+path[32:101]+'_'\n",
    "       if path[91] == 'S': #Sentinel-2 filenames\n",
    "           data_dir[i] = path+path[32:102]+'_'\n",
    "# Landsat filenames are 1 character shorter than Sentinel-2 filenames\n",
    "\n",
    "# Extract date information from filename\n",
    "dates = [path[57:65] for path in data_dir]\n",
    "\n",
    "# Change this to the desired band for visualization\n",
    "band = 'B01_WTR'\n",
    "\n",
    "# Path to shapefile used to create mask of pixels close to Lake Mead\n",
    "shapepath = 'aux_files/bufferlakebnds/bufferlakebnds.shp'"
   ]
  },
  {
   "cell_type": "markdown",
   "metadata": {},
   "source": [
    "***"
   ]
  },
  {
   "cell_type": "markdown",
   "metadata": {},
   "source": [
    "### **<font color='red'> -- Do not modify any of the code below -- </font>**"
   ]
  },
  {
   "cell_type": "code",
   "execution_count": null,
   "metadata": {},
   "outputs": [],
   "source": [
    "# Functions\n",
    "\n",
    "def file_dataframe(data_dir:str,datelist:str):\n",
    "    '''\n",
    "    Returns dataframe with data_dir to DSWx layers for a given list of dates.\n",
    "        Parameters:\n",
    "                data_dir (str): Working directory for each date\n",
    "                datelist (str): List of dates\n",
    "        Returns:\n",
    "                dswx_file_df (Pandas DataFrame): List of data_dir to layer for each date\n",
    "    '''\n",
    "    fileDF = []\n",
    "    for i,date in enumerate(dates):\n",
    "        paths = f\"{data_dir[i]}%s.tif\"\n",
    "        B01_WTR = paths%'B01_WTR'\n",
    "        B02_BWTR = paths%'B02_BWTR'\n",
    "        B03_CONF = paths%'B03_CONF'\n",
    "        B04_DIAG = paths%'B04_DIAG.tif'\n",
    "        B05_WTR_1 = paths%'B05_WTR-1.tif'\n",
    "        B06_WTR_2 = paths%'B06_WTR-2.tif'\n",
    "        B07_LAND = paths%'B07_LAND.tif'\n",
    "        B08_SHAD = paths%'*B08_SHAD.tif'\n",
    "        B09_CLOUD = paths%'*B09_CLOUD.tif'\n",
    "        B10_DEM = paths%'DEM.tif'\n",
    "        fileDF.append([date,B01_WTR,B02_BWTR,B03_CONF,B04_DIAG,B05_WTR_1,B06_WTR_2,B07_LAND,B08_SHAD,B09_CLOUD,B10_DEM])\n",
    "    fileDF = pd.DataFrame(fileDF,columns = ['Date', 'B01_WTR', 'B02_BWTR', 'B03_CONF', 'B04_DIAG', 'B05_WTR_1', 'B06_WTR_2', \\\n",
    "        'B07_LAND', 'B08_SHAD', 'B09_CLOUD', 'B10_DEM']).astype('string')\n",
    "    return fileDF\n",
    "\n",
    "def stack_layers(files:str,datelist:str):\n",
    "    '''\n",
    "    Returns geocube with one band over time stacked into one multi-dimensional array.\n",
    "            Parameters:\n",
    "                    files (str): Paths to band for each date\n",
    "                    datelist (list): List of dates\n",
    "            Returns:\n",
    "                    layerStack (xarray Dataset): Geocube with band stacked in time\n",
    "                    crs (int): Coordinate Reference System corresponding to band\n",
    "    '''\n",
    "    layerStack = []; layerS = []; layerStack_ = [];\n",
    "    for i,d in enumerate(datelist):\n",
    "        time = datetime.strptime(d,'%Y%m%d')\n",
    "        if i == 0:\n",
    "            layerStack_ = xr.open_rasterio(files[i])\n",
    "            crs = pyproj.CRS.to_epsg(pyproj.CRS.from_proj4(layerStack_.crs))\n",
    "            layerStack = layerStack_.squeeze(drop=True)\n",
    "            layerStack = layerStack.to_dataset(name='z')\n",
    "            layerStack.coords['time'] = np.array(time)\n",
    "            layerStack = layerStack.rename({'x':'longitude', 'y':'latitude'})\n",
    "            layerStack = layerStack.expand_dims(dim='time')\n",
    "        else:\n",
    "            layerS = xr.open_rasterio(files[i])\n",
    "            layerS = layerS.squeeze(drop=True)\n",
    "            layerS = layerS.to_dataset(name='z')\n",
    "            layerS.coords['time'] = np.array(time)\n",
    "            layerS = layerS.rename({'x':'longitude', 'y':'latitude'})\n",
    "            layerS = layerS.expand_dims(dim='time')\n",
    "            layerStack = xr.concat([layerStack,layerS], dim='time')\n",
    "    return layerStack, crs\n",
    "\n",
    "def buffer_mask(shapefile:str):\n",
    "    '''\n",
    "    Returns masked data based on buffered shapefile.\n",
    "            Parameters:\n",
    "                    shapefile (str): Path to buffered shapefile\n",
    "            Returns:\n",
    "                    masked (xarray Dataset): Geocube of masked data\n",
    "    '''\n",
    "    shp = gpd.read_file(shapefile)\n",
    "    maskedData = data.rio.clip(shp.geometry)\n",
    "    maskedData = maskedData.where(maskedData['z'] != 255.)\n",
    "    return maskedData\n",
    "\n",
    "def compute_area(data,dates):\n",
    "    '''\n",
    "    Returns area for each layer value for each date.\n",
    "            Parameters:\n",
    "                    data (xarray Dataset): Band of masked geocube\n",
    "                    dates (xarray Dataset): Dates in datetime format\n",
    "            Returns:\n",
    "                    pixelArea (xarray Dataset): Dataset of area of each layer value\n",
    "    '''\n",
    "    nd = len(data)\n",
    "    water = np.empty(nd)\n",
    "    partial_water = np.empty(nd)\n",
    "    clouds = np.empty(nd)\n",
    "    \n",
    "    for i in range(nd):\n",
    "        df = data[i]\n",
    "        water[i] = np.count_nonzero(df==1)*900\n",
    "        partial_water[i] = np.count_nonzero(df==2)*900\n",
    "        clouds[i] = (np.count_nonzero(df==9)/np.count_nonzero(df))*100\n",
    "\n",
    "    pixelArea = xr.Dataset(data_vars={'Water': ('time',water), 'Partial Water': ('time',partial_water), \\\n",
    "        'Clouds': ('time',clouds)}, coords={'time': dates})\n",
    "    return pixelArea\n",
    "\n",
    "def compute_occurrence(datelist:str,data):\n",
    "    '''\n",
    "    Caluclates surface water occurrence percent by dividing sum of \n",
    "    water detection by sum of valid occurrences per month\n",
    "            Parameters:\n",
    "                    data (xarray Dataset): Masked geocube\n",
    "            Returns:\n",
    "                    percent (xarray Dataset): Geocube of water percent \n",
    "    '''\n",
    "    years = []\n",
    "    for date in datelist:\n",
    "        year_ = date[0:4]\n",
    "        years.append(year_)\n",
    "    \n",
    "    years = sorted(list(set(years)))\n",
    "\n",
    "    percentCube = []; percentCube_ = []; percent = [];\n",
    "\n",
    "    data = data.where(data!=9) # mask out cloud pixels\n",
    "\n",
    "    for year in years:\n",
    "        dy = data.isel(time=data.time.dt.year.isin([int(year)]))\n",
    "        for i in range(1,12):\n",
    "            dm = dy.isel(time=dy.time.dt.month.isin([i]))\n",
    "            count = np.sum(dm.z==1,axis=0)+np.sum(dm.z==2,axis=0)\n",
    "            total = np.count_nonzero(~np.isnan(dm.z),axis=0)\n",
    "            if (year == years[0] and i==1):\n",
    "                percentCube = (count/total)*100\n",
    "                percentCube = percentCube.to_dataset(name='z')\n",
    "                percentCube.coords['month'] = year+'-'+str(i)\n",
    "                percentCube = percentCube.expand_dims(dim='month')\n",
    "            else:\n",
    "                percent = (count/total)*100\n",
    "                percent = percent.to_dataset(name='z')\n",
    "                percent.coords['month'] = year+'-'+str(i)\n",
    "                percent = percent.expand_dims(dim='month')\n",
    "                percentCube = xr.concat([percentCube,percent], dim='month')\n",
    "                \n",
    "    percentCube = np.mean(percentCube.z,axis=0)\n",
    "    return percentCube\n",
    "    "
   ]
  },
  {
   "cell_type": "markdown",
   "metadata": {},
   "source": [
    "### **<font color='red'> -- Do not modify any of the code above -- </font>**"
   ]
  },
  {
   "cell_type": "markdown",
   "metadata": {},
   "source": [
    "---\n",
    "## **1. Prepare the Geocube: Create the file dataframe, multidimensional dataset, and mask**"
   ]
  },
  {
   "cell_type": "code",
   "execution_count": null,
   "metadata": {},
   "outputs": [],
   "source": [
    "# Create dataframe of paths to bands for each date\n",
    "dswx_file_df = file_dataframe(data_dir,dates)\n",
    "# Inspect the dataframe\n",
    "dswx_file_df"
   ]
  },
  {
   "cell_type": "code",
   "execution_count": null,
   "metadata": {
    "scrolled": true
   },
   "outputs": [],
   "source": [
    "# Stack dates to create a multidimensional \"geocube\" for chosen band\n",
    "data, crs = stack_layers(dswx_file_df[band], dates)\n",
    "# Inspect the geocube dataset created\n",
    "data"
   ]
  },
  {
   "cell_type": "markdown",
   "metadata": {},
   "source": [
    "Only include pixels near Lake Meak by creating mask from buffered shapefile based on a [2003 USGS shapefile](https://pubs.usgs.gov/of/2009/1150/gis/basemap/lakebndsmeta.htm). This shapefile is created using the optional [prep_shapefile](link) notebook provided in this repository."
   ]
  },
  {
   "cell_type": "code",
   "execution_count": null,
   "metadata": {},
   "outputs": [],
   "source": [
    "# Create a masked geocube\n",
    "masked_data = buffer_mask(shapepath)\n",
    "# Inspect the masked dataset\n",
    "masked_data"
   ]
  },
  {
   "cell_type": "markdown",
   "metadata": {},
   "source": [
    "---\n",
    "## **2. Visualize surface water extent of Lake Mead with all available dates**"
   ]
  },
  {
   "cell_type": "code",
   "execution_count": null,
   "metadata": {},
   "outputs": [],
   "source": [
    "# Create a basemap\n",
    "base = gv.tile_sources.EsriImagery.opts(width=1000, height=1000, padding=0.1)\n",
    "\n",
    "dswxPalette = [\"#2000ff\",\"#04fc04\",\"#ffffff\",\"#ffffff\",\"#ffffff\",\"#ffffff\",\"#ffffff\",\"#ffffff\",\"#7f7f7f\"]\n",
    "\n",
    "masked_edit = masked_data.where(masked_data['z'] != 4.) # Flag 4 has a lot of false positives\n",
    "\n",
    "masked_data_z = masked_edit.z.where(masked_edit.z>0)\n",
    "\n",
    "masked_data_slider = masked_data_z.interactive.sel(time=pnw.DiscreteSlider).hvplot(x='longitude', \n",
    "                                                                                       y='latitude', \n",
    "                                                                                       crs=crs, \n",
    "                                                                                       kind='image', \n",
    "                                                                                       rasterize=True, \n",
    "                                                                                       dynamic=True,\n",
    "                                                                                       cmap=dswxPalette, \n",
    "                                                                                       aspect='equal', \n",
    "                                                                                       frame_width=600, \n",
    "                                                                                       frame_height=600).opts(active_tools=['wheel_zoom'],\n",
    "                                                                                                              xlabel='Longitude', \n",
    "                                                                                                              ylabel='Latitude',  \n",
    "                                                                                                              clim=(1,9), \n",
    "                                                                                                              colorbar_opts={'ticker': FixedTicker(ticks=[0, 1, 2, 9])}, \n",
    "                                                                                                              alpha=0.9)\n",
    "masked_data_slider * base"
   ]
  },
  {
   "cell_type": "markdown",
   "metadata": {},
   "source": [
    "**Layer Values:**<br> \n",
    "* **0:** Not Water – an area with valid reflectance data that is not open water (class 1), partial surface water (class 2), or\n",
    "cloud/cloud shadow (class 9). Masking can result in “not water” (class 0) where land cover masking is applied<br>\n",
    "* **1:** Open Water – an area that is entirely water and unobstructed to the sensor, including obstructions by vegetation, terrain,\n",
    "and buildings <br>\n",
    "* **2:** Partial Surface Water – an area that is at least 50% and less than 100% open water. This may be referred to as “subpixel\n",
    "inundation” when referring to a pixel’s area. Examples include inundated sinkholes, floating vegetation, and pixels bisected by\n",
    "coastlines <br> \n",
    "* **9:** Cloud/Cloud Shadow – an area identified as cloud, cloud shadow, or snow/ice according to input quality assurance (QA)\n",
    "data <br>\n",
    "* **255:** Fill value (no data)  <br> "
   ]
  },
  {
   "cell_type": "markdown",
   "metadata": {},
   "source": [
    "---\n",
    "## **3. Calculate water area over time**"
   ]
  },
  {
   "cell_type": "code",
   "execution_count": null,
   "metadata": {},
   "outputs": [],
   "source": [
    "# Calculate area of each layer value\n",
    "area = compute_area(masked_data.z,masked_data.time)\n",
    "# Inspect the new dataset\n",
    "area"
   ]
  },
  {
   "attachments": {},
   "cell_type": "markdown",
   "metadata": {},
   "source": [
    "We can plot water area vs. time in two ways. Below we utilize `matplotlib` subplots."
   ]
  },
  {
   "cell_type": "code",
   "execution_count": null,
   "metadata": {},
   "outputs": [],
   "source": [
    "n = 25\n",
    "\n",
    "fig, (ax1,ax2,ax3) = plt.subplots(3,sharex=True)\n",
    "fig.set_size_inches(30,15)\n",
    "fig.tight_layout()\n",
    "\n",
    "p1,=ax1.plot(area['time'],area['Water'],color='black',linewidth=2.0)\n",
    "p1,=ax1.plot(area['time'],area['Water'],color=\"#2000ff\")\n",
    "p2,=ax2.plot(area['time'],area['Partial Water'],color='black',linewidth=2.0)\n",
    "p2,=ax2.plot(area['time'],area['Partial Water'],color=\"#04fc04\")\n",
    "p3,=ax3.plot(area['time'],area['Clouds'],color='black',linewidth=2.0)\n",
    "p3,=ax3.plot(area['time'],area['Clouds'],color=\"#7f7f7f\")\n",
    "\n",
    "ax1.tick_params(axis='both', labelsize=n, direction='out', length=6, width=3)\n",
    "ax2.tick_params(axis='both', labelsize=n,direction='out', length=6, width=3)\n",
    "ax3.tick_params(axis='both', labelsize=n, direction='out', length=6, width=3)"
   ]
  },
  {
   "attachments": {},
   "cell_type": "markdown",
   "metadata": {},
   "source": [
    "We can also create a more dynamic plot using `hvplot`."
   ]
  },
  {
   "cell_type": "code",
   "execution_count": null,
   "metadata": {},
   "outputs": [],
   "source": [
    "area.hvplot.line(x='time', y=['Water','Partial Water','Clouds'], value_label = 'Area (m^2)',\n",
    "                width=1000, height=300, subplots=True, shared_axes=False).cols(1).opts(title=f\"Area of Masked Pixels\",fontsize={'title': 16, 'labels': 14, 'xticks': 6, 'yticks': 12})"
   ]
  },
  {
   "cell_type": "markdown",
   "metadata": {},
   "source": [
    "---\n",
    "## **4. Calculate and visualize water occurrence**"
   ]
  },
  {
   "cell_type": "code",
   "execution_count": null,
   "metadata": {},
   "outputs": [],
   "source": [
    "# Calculate area of each layer value\n",
    "occurrence = compute_occurrence(dates,masked_data)\n",
    "# Inspect the new dataset\n",
    "occurrence"
   ]
  },
  {
   "cell_type": "code",
   "execution_count": null,
   "metadata": {},
   "outputs": [],
   "source": [
    "# Create a basemap\n",
    "base = gv.tile_sources.EsriImagery.opts(width=1000, height=1000, padding=0.1)\n",
    "\n",
    "occurrence.where(occurrence>0).hvplot.image(x='longitude', \n",
    "                          y='latitude', \n",
    "                          crs=crs, \n",
    "                          rasterize=True, \n",
    "                          dynamic=True, \n",
    "                          aspect='equal', \n",
    "                          frame_width=500, \n",
    "                          frame_height=500, \n",
    "                          cmap='plasma', \n",
    "                          clim=(0,100), alpha=0.8).opts(title=f\"Water Occurrence\", xlabel='Longitude', ylabel='Latitude') * base"
   ]
  }
 ],
 "metadata": {
  "kernelspec": {
   "display_name": "Python 3 (ipykernel)",
   "language": "python",
   "name": "python3"
  },
  "language_info": {
   "codemirror_mode": {
    "name": "ipython",
    "version": 3
   },
   "file_extension": ".py",
   "mimetype": "text/x-python",
   "name": "python",
   "nbconvert_exporter": "python",
   "pygments_lexer": "ipython3",
   "version": "3.9.13 | packaged by conda-forge | (main, May 27 2022, 16:56:21) \n[GCC 10.3.0]"
  },
  "vscode": {
   "interpreter": {
    "hash": "5d751f0bf54b38837c679b9bb741ac2e77b1c14d35b41d9e176906b1359cbeef"
   }
  }
 },
 "nbformat": 4,
 "nbformat_minor": 2
}
