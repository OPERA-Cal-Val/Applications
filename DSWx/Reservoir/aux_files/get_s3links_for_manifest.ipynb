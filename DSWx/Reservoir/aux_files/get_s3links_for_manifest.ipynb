{
 "cells": [
  {
   "cell_type": "code",
   "execution_count": 6,
   "id": "c964f198-1737-486e-9b8a-9c923b383482",
   "metadata": {},
   "outputs": [],
   "source": [
    "import os\n",
    "\n",
    "import boto3\n",
    "from botocore import UNSIGNED\n",
    "from botocore.config import Config\n",
    "\n",
    "import fsspec"
   ]
  },
  {
   "cell_type": "code",
   "execution_count": 4,
   "id": "58e46ef5-d741-4939-98ef-f7f82fd5db96",
   "metadata": {},
   "outputs": [],
   "source": [
    "def get_s3_links(bucket_name, prefix=''):\n",
    "    \"\"\"Get S3 links of all items in a specified bucket.\"\"\"\n",
    "    s3_links = []\n",
    "    \n",
    "    # Use paginator to handle large number of objects\n",
    "    paginator = s3.get_paginator('list_objects_v2')\n",
    "    \n",
    "    # Create a paginator object\n",
    "    pages = paginator.paginate(Bucket=bucket_name, Prefix=prefix)\n",
    "    \n",
    "    for page in pages:\n",
    "        if 'Contents' in page:\n",
    "            for obj in page['Contents']:\n",
    "                key = obj['Key']\n",
    "                key = os.path.dirname(key)\n",
    "                s3_link = f\"s3://{bucket_name}/{key}/\"\n",
    "                s3_links.append(s3_link)\n",
    "\n",
    "    # remove duplicate entries\n",
    "    s3_links = list(set(s3_links))\n",
    "\n",
    "    return s3_links"
   ]
  },
  {
   "cell_type": "code",
   "execution_count": 7,
   "id": "152ccf0c-0f43-4921-9ab6-bf6f7950caf4",
   "metadata": {},
   "outputs": [],
   "source": [
    "# Initialize a session using Amazon S3\n",
    "s3 = boto3.client('s3', config=Config(signature_version=UNSIGNED))\n",
    "kwargs = {'Bucket': bucket}\n",
    "\n",
    "# Specify your bucket name\n",
    "bucket_name = 'opera-pst-rs-pop1'\n",
    "\n",
    "# Specify the prefix if you want to filter objects within a folder or with a specific prefix\n",
    "prefix = 'products/DSWx_HLS/OPERA_L3_DSWx-HLS_T11SQA_'\n",
    "\n",
    "# Get the list of S3 links\n",
    "s3_links = get_s3_links(bucket_name, prefix)"
   ]
  },
  {
   "cell_type": "code",
   "execution_count": 8,
   "id": "db72dd70-11b8-47d7-8935-b13b8f0a094c",
   "metadata": {},
   "outputs": [],
   "source": [
    "# write to file\n",
    "manifest_file = 'T11SQA_manifest.txt'\n",
    "\n",
    "# Open the file in write mode\n",
    "with open(manifest_file, 'w') as file:\n",
    "    # Iterate through the list and write each string to the file\n",
    "    for item in s3_links:\n",
    "        file.write(item + \"\\n\")"
   ]
  }
 ],
 "metadata": {
  "kernelspec": {
   "display_name": "opera [conda env:opera]",
   "language": "python",
   "name": "conda-env-opera-opera"
  },
  "language_info": {
   "codemirror_mode": {
    "name": "ipython",
    "version": 3
   },
   "file_extension": ".py",
   "mimetype": "text/x-python",
   "name": "python",
   "nbconvert_exporter": "python",
   "pygments_lexer": "ipython3",
   "version": "3.10.13"
  }
 },
 "nbformat": 4,
 "nbformat_minor": 5
}
