{
 "cells": [
  {
   "cell_type": "markdown",
   "metadata": {},
   "source": [
    "This notebook demonstrates how to stream OPERA S1-RTC data directly from the ASF DAAC. It requires login credentials in a .netrc file\n",
    "\n",
    "[Hurricane Otis](https://en.wikipedia.org/wiki/Hurricane_Otis) made landfall in October 2023 near Acapulco, Mexico as a category 5 hurricane. We will query ASF DAAC to retrieve OPERA S1-RTC data for this period."
   ]
  },
  {
   "cell_type": "code",
   "execution_count": 70,
   "metadata": {},
   "outputs": [],
   "source": [
    "from datetime import datetime\n",
    "import asf_search as asf\n",
    "from shapely.geometry import Point\n",
    "import rasterio\n",
    "\n",
    "from osgeo import gdal"
   ]
  },
  {
   "cell_type": "code",
   "execution_count": 71,
   "metadata": {},
   "outputs": [],
   "source": [
    "gdal.SetConfigOption('GDAL_HTTP_COOKIEFILE','~/cookies.txt')\n",
    "gdal.SetConfigOption('GDAL_HTTP_COOKIEJAR', '~/cookies.txt')\n",
    "gdal.SetConfigOption('GDAL_DISABLE_READDIR_ON_OPEN','EMPTY_DIR')\n",
    "gdal.SetConfigOption('CPL_VSIL_CURL_ALLOWED_EXTENSIONS','TIF, TIFF')"
   ]
  },
  {
   "cell_type": "code",
   "execution_count": 57,
   "metadata": {},
   "outputs": [
    {
     "data": {
      "text/plain": [
       "'2023-10-25T00:00:00Z'"
      ]
     },
     "execution_count": 57,
     "metadata": {},
     "output_type": "execute_result"
    }
   ],
   "source": [
    "start_date = datetime(year=2023, month=10, day=25)\n",
    "start_date.strftime(\"%Y-%m-%dT00:00:00Z\")"
   ]
  },
  {
   "cell_type": "code",
   "execution_count": 64,
   "metadata": {},
   "outputs": [],
   "source": [
    "# Search dates\n",
    "start_date = datetime(year=2023, month=10, day=25)\n",
    "end_date = datetime(year=2023, month=11, day=8)\n",
    "\n",
    "# AOI\n",
    "aoi_wkt = 'POLYGON((-100.0218 16.7927,-99.7753 16.7927,-99.7753 16.9841,-100.0218 16.9841,-100.0218 16.7927))'\n",
    "\n",
    "opts = {\n",
    "    'intersectsWith':Point(-99.8796, 16.8421).wkt,\n",
    "    'platform' : asf.PLATFORM.SENTINEL1,\n",
    "    'start': start_date.strftime(\"%Y-%m-%dT00:00:00Z\"),\n",
    "    'end': end_date.strftime(\"%Y-%m-%dT00:00:00Z\"),\n",
    "    'polarization': [\"VV\", \"VH\"],\n",
    "    'maxResults' : 250,\n",
    "    'processingLevel' : 'RTC', \n",
    "    'beamMode' : asf.BEAMMODE.IW,\n",
    "    # 'flightDirection' : asf.FLIGHT_DIRECTION.ASCENDING\n",
    "}"
   ]
  },
  {
   "cell_type": "code",
   "execution_count": 65,
   "metadata": {},
   "outputs": [
    {
     "data": {
      "text/plain": [
       "4"
      ]
     },
     "execution_count": 65,
     "metadata": {},
     "output_type": "execute_result"
    }
   ],
   "source": [
    "results = asf.search(**opts)\n",
    "len(results)"
   ]
  },
  {
   "cell_type": "code",
   "execution_count": 66,
   "metadata": {},
   "outputs": [
    {
     "data": {
      "text/plain": [
       "{'type': 'Feature',\n",
       " 'geometry': {'coordinates': [[[-99.92892, 16.73507],\n",
       "    [-99.06057, 16.89631],\n",
       "    [-99.09463, 17.06264],\n",
       "    [-99.959, 16.90243],\n",
       "    [-99.92892, 16.73507]]],\n",
       "  'type': 'Polygon'},\n",
       " 'properties': {'beamModeType': 'IW',\n",
       "  'browse': ['https://datapool.asf.alaska.edu/BROWSE/OPERA-S1/OPERA_L2_RTC-S1_T078-165486-IW2_20231105T004829Z_20231106T002602Z_S1A_30_v1.0_BROWSE.png',\n",
       "   's3://asf-cumulus-prod-opera-browse/OPERA_L2_RTC-S1/OPERA_L2_RTC-S1_T078-165486-IW2_20231105T004829Z_20231106T002602Z_S1A_30_v1.0/OPERA_L2_RTC-S1_T078-165486-IW2_20231105T004829Z_20231106T002602Z_S1A_30_v1.0_BROWSE.png',\n",
       "   'https://datapool.asf.alaska.edu/BROWSE/OPERA-S1/OPERA_L2_RTC-S1_T078-165486-IW2_20231105T004829Z_20231106T002602Z_S1A_30_v1.0_BROWSE_low-res.png',\n",
       "   's3://asf-cumulus-prod-opera-browse/OPERA_L2_RTC-S1/OPERA_L2_RTC-S1_T078-165486-IW2_20231105T004829Z_20231106T002602Z_S1A_30_v1.0/OPERA_L2_RTC-S1_T078-165486-IW2_20231105T004829Z_20231106T002602Z_S1A_30_v1.0_BROWSE_low-res.png',\n",
       "   'https://datapool.asf.alaska.edu/BROWSE/OPERA-S1/OPERA_L2_RTC-S1_T078-165486-IW2_20231105T004829Z_20231106T002602Z_S1A_30_v1.0_BROWSE_thumbnail.png',\n",
       "   's3://asf-cumulus-prod-opera-browse/OPERA_L2_RTC-S1/OPERA_L2_RTC-S1_T078-165486-IW2_20231105T004829Z_20231106T002602Z_S1A_30_v1.0/OPERA_L2_RTC-S1_T078-165486-IW2_20231105T004829Z_20231106T002602Z_S1A_30_v1.0_BROWSE_thumbnail.png'],\n",
       "  'bytes': None,\n",
       "  'centerLat': None,\n",
       "  'centerLon': None,\n",
       "  'faradayRotation': None,\n",
       "  'fileID': 'OPERA_L2_RTC-S1_T078-165486-IW2_20231105T004829Z_20231106T002602Z_S1A_30_v1.0',\n",
       "  'flightDirection': 'ASCENDING',\n",
       "  'groupID': 'S1A_IWDV_0051_0057_051075_078',\n",
       "  'granuleType': None,\n",
       "  'insarStackId': None,\n",
       "  'md5sum': None,\n",
       "  'offNadirAngle': None,\n",
       "  'orbit': 51075,\n",
       "  'pathNumber': 78,\n",
       "  'platform': 'Sentinel-1A',\n",
       "  'pointingAngle': None,\n",
       "  'polarization': 'VV',\n",
       "  'processingDate': '2023-11-06T00:26:06Z',\n",
       "  'processingLevel': 'RTC',\n",
       "  'sceneName': 'OPERA_L2_RTC-S1_T078-165486-IW2_20231105T004829Z_20231106T002602Z_S1A_30_v1.0',\n",
       "  'sensor': 'C-SAR',\n",
       "  'startTime': '2023-11-05T00:48:29Z',\n",
       "  'stopTime': '2023-11-05T00:48:32Z',\n",
       "  'url': 'https://datapool.asf.alaska.edu/RTC/OPERA-S1/OPERA_L2_RTC-S1_T078-165486-IW2_20231105T004829Z_20231106T002602Z_S1A_30_v1.0_VH.tif',\n",
       "  'pgeVersion': '2.0.1',\n",
       "  'fileName': 'OPERA_L2_RTC-S1_T078-165486-IW2_20231105T004829Z_20231106T002602Z_S1A_30_v1.0_VH.tif',\n",
       "  'frameNumber': None}}"
      ]
     },
     "execution_count": 66,
     "metadata": {},
     "output_type": "execute_result"
    }
   ],
   "source": [
    "results[1].geojson()"
   ]
  },
  {
   "cell_type": "code",
   "execution_count": 20,
   "metadata": {},
   "outputs": [
    {
     "data": {
      "text/plain": [
       "{'type': 'Feature',\n",
       " 'geometry': {'coordinates': [[[-53.2003, 55.6359],\n",
       "    [-57.081, 55.3225],\n",
       "    [-56.4286, 53.4867],\n",
       "    [-52.7191, 53.7917],\n",
       "    [-53.2003, 55.6359]]],\n",
       "  'type': 'Polygon'},\n",
       " 'properties': {'beamModeType': 'IW',\n",
       "  'browse': None,\n",
       "  'bytes': 1644202945,\n",
       "  'centerLat': 54.5744,\n",
       "  'centerLon': -54.8597,\n",
       "  'faradayRotation': None,\n",
       "  'fileID': 'S1A_IW_RAW__0SDV_20231106T212447_20231106T212518_051102_0629A9_9065-RAW',\n",
       "  'flightDirection': 'ASCENDING',\n",
       "  'groupID': 'S1A_IWDV_0175_0181_051102_105',\n",
       "  'granuleType': 'SENTINEL_1A_FRAME',\n",
       "  'insarStackId': None,\n",
       "  'md5sum': '272d8042cc0750b47a0b2d26d1a0cf7f',\n",
       "  'offNadirAngle': None,\n",
       "  'orbit': 51102,\n",
       "  'pathNumber': 105,\n",
       "  'platform': 'Sentinel-1A',\n",
       "  'pointingAngle': None,\n",
       "  'polarization': 'VV+VH',\n",
       "  'processingDate': '2023-11-06T21:24:47.965Z',\n",
       "  'processingLevel': 'RAW',\n",
       "  'sceneName': 'S1A_IW_RAW__0SDV_20231106T212447_20231106T212518_051102_0629A9_9065',\n",
       "  'sensor': 'C-SAR',\n",
       "  'startTime': '2023-11-06T21:24:47.965Z',\n",
       "  'stopTime': '2023-11-06T21:25:18.651Z',\n",
       "  'url': 'https://datapool.asf.alaska.edu/RAW/SA/S1A_IW_RAW__0SDV_20231106T212447_20231106T212518_051102_0629A9_9065.zip',\n",
       "  'pgeVersion': None,\n",
       "  'fileName': 'S1A_IW_RAW__0SDV_20231106T212447_20231106T212518_051102_0629A9_9065.zip',\n",
       "  'frameNumber': 175}}"
      ]
     },
     "execution_count": 20,
     "metadata": {},
     "output_type": "execute_result"
    }
   ],
   "source": []
  },
  {
   "cell_type": "code",
   "execution_count": null,
   "metadata": {},
   "outputs": [],
   "source": []
  },
  {
   "cell_type": "code",
   "execution_count": 23,
   "metadata": {},
   "outputs": [],
   "source": [
    "import asf_search as asf\n",
    "options = {\n",
    "\t'intersectsWith': 'POLYGON((-100.0218 16.7927,-99.7753 16.7927,-99.7753 16.9841,-100.0218 16.9841,-100.0218 16.7927))',\n",
    "\t'collections': [\n",
    "\t\t'C1259974840-ASF',\n",
    "\t\t'C1259976861-ASF',\n",
    "\t\t'C1259981910-ASF',\n",
    "\t\t'C1259982010-ASF',\n",
    "\t\t'C1259975087-ASFDEV',\n",
    "\t\t'C1259976862-ASFDEV',\n",
    "\t\t'C1259983643-ASFDEV',\n",
    "\t\t'C1259983645-ASFDEV',\n",
    "\t\t'C2777443834-ASF',\n",
    "\t\t'C2777436413-ASF'\n",
    "\t],\n",
    "\t'start': '2023-10-23T07:00:00Z',\n",
    "\t'maxResults': 250\n",
    "}\n",
    "results = asf.search(**options)"
   ]
  },
  {
   "cell_type": "code",
   "execution_count": 72,
   "metadata": {},
   "outputs": [
    {
     "name": "stdout",
     "output_type": "stream",
     "text": [
      "{'driver': 'GTiff', 'dtype': 'float32', 'nodata': nan, 'width': 3430, 'height': 1592, 'count': 1, 'crs': CRS.from_epsg(32614), 'transform': Affine(30.0, 0.0, 391830.0,\n",
      "       0.0, -30.0, 1893570.0), 'blockxsize': 512, 'blockysize': 512, 'tiled': True, 'compress': 'deflate', 'interleave': 'band'}\n"
     ]
    }
   ],
   "source": [
    "with rasterio.open('https://datapool.asf.alaska.edu/RTC/OPERA-S1/OPERA_L2_RTC-S1_T078-165486-IW2_20231105T004829Z_20231106T002602Z_S1A_30_v1.0_VH.tif') as ds:\n",
    "    print(ds.profile)"
   ]
  },
  {
   "cell_type": "code",
   "execution_count": null,
   "metadata": {},
   "outputs": [],
   "source": []
  }
 ],
 "metadata": {
  "kernelspec": {
   "display_name": "Python 3.7.12 ('opera_app')",
   "language": "python",
   "name": "python3"
  },
  "language_info": {
   "codemirror_mode": {
    "name": "ipython",
    "version": 3
   },
   "file_extension": ".py",
   "mimetype": "text/x-python",
   "name": "python",
   "nbconvert_exporter": "python",
   "pygments_lexer": "ipython3",
   "version": "3.10.13"
  },
  "orig_nbformat": 4,
  "vscode": {
   "interpreter": {
    "hash": "2bf7a1fc1d0b7c3cfb10cf43311b1715a481fd3a5a3c7394bffa778604560591"
   }
  }
 },
 "nbformat": 4,
 "nbformat_minor": 2
}
